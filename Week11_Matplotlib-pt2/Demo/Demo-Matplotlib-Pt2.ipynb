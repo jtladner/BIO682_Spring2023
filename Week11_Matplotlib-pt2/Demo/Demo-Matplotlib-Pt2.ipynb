{
 "cells": [
  {
   "cell_type": "code",
   "execution_count": null,
   "metadata": {},
   "outputs": [],
   "source": [
    "import numpy as np                           # Import numpy\n",
    "import pandas as pd                          # Import pandas\n",
    "\n",
    "import matplotlib.pyplot as plt              # Import matplotlib\n",
    "\n",
    "#Control font type\n",
    "import matplotlib as mpl\n",
    "mpl.rcParams['pdf.fonttype'] = 42            # Ensure fonts will be editable as fonts in Illustrator\n",
    "mpl.rcParams[\"font.family\"] = \"sans-serif\"   # Use san-serif font in plots\n"
   ]
  },
  {
   "cell_type": "markdown",
   "metadata": {},
   "source": [
    "# Customizing scatterplots"
   ]
  },
  {
   "cell_type": "code",
   "execution_count": null,
   "metadata": {},
   "outputs": [],
   "source": [
    "# Read in data, dataframe \n",
    "mD = pd.read_csv(\"metadata.tsv\", sep=\"\\t\", header=0)\n",
    "\n",
    "fig,ax = plt.subplots(1,1,figsize=(6,6))\n",
    "\n",
    "# Basic\n",
    "ax.scatter(mD[\"Age\"], mD[\"SARS2Peps\"])\n",
    "#ax.set_xlabel(\"Donor Age\", fontsize=25)\n",
    "#ax.set_ylabel(\"Enriched SARS-CoV-2 Peptides\", fontsize=25)\n",
    "\n",
    "\n",
    "# Modify color, all points the same\n",
    "#ax.scatter(mD[\"Age\"], mD[\"SARS2Peps\"], c=\"violet\")\n",
    "\n",
    "# Color based on a categorical variable, list of colors\n",
    "#colors = [\"blue\" if x==\"M\" else \"orange\" for x  in mD[\"Sex\"]]\n",
    "#print(colors)\n",
    "#ax.scatter(mD[\"Age\"], mD[\"SARS2Peps\"], c=colors)\n",
    "\n",
    "# Modify size of all markers, \"The marker size in points**2\"\n",
    "#ax.scatter(mD[\"Age\"], mD[\"SARS2Peps\"], c=colors, s=5)       # Smaller\n",
    "#ax.scatter(mD[\"Age\"], mD[\"SARS2Peps\"], c=colors, s=100)       # Larger\n",
    "\n",
    "# Scale size by some quantitative variable\n",
    "#ax.scatter(mD[\"Age\"], mD[\"SARS2Peps\"], c=colors, s=[x**1.5 for x in mD[\"Age\"]], alpha=0.5)\n",
    "\n",
    "# Modify the shape of the markers, all the same\n",
    "# Marker options = https://matplotlib.org/stable/api/markers_api.html\n",
    "# ax.scatter(mD[\"Age\"], mD[\"SARS2Peps\"], c=colors, marker=\"d\")\n",
    "\n",
    "# Modify the shape of the markers, different shapes for different groups\n",
    "# This needs to be done with separate calls to .scatter() for each shape\n",
    "\n",
    "#mD_male = mD[mD[\"Sex\"]==\"M\"]    # Dataframe with only males\n",
    "#mD_female = mD[mD[\"Sex\"]==\"F\"]  # Dataframe with only females\n",
    "#ax.scatter(mD_male[\"Age\"], mD_male[\"SARS2Peps\"], c=\"blue\", marker=\"^\")\n",
    "#ax.scatter(mD_female[\"Age\"], mD_female[\"SARS2Peps\"], c=\"orange\", marker=\"o\")\n",
    "\n",
    "\n",
    "# Add legend\n",
    "#ax.scatter(mD_male[\"Age\"], mD_male[\"SARS2Peps\"], c=\"blue\", marker=\"^\", label=\"Male\")\n",
    "#ax.scatter(mD_female[\"Age\"], mD_female[\"SARS2Peps\"], c=\"orange\", marker=\"o\", label=\"Female\")\n",
    "\n",
    "#ax.legend(loc='best', fontsize=20)\n",
    "#ax.legend(loc='upper left', fontsize=20)\n",
    "#ax.legend(loc='lower left', fontsize=20)\n",
    "\n",
    "# Custom labels with .text()\n",
    "# Dy default, the position should be given in data coordinates\n",
    "#ax.text(25,60, \"Male\", fontsize=25, color=\"blue\")\n",
    "#ax.text(25,54, \"Female\", fontsize=25, color=\"orange\")\n",
    "\n"
   ]
  },
  {
   "cell_type": "markdown",
   "metadata": {},
   "source": [
    "# [Color maps](https://matplotlib.org/3.5.1/tutorials/colors/colormaps.html)"
   ]
  },
  {
   "cell_type": "code",
   "execution_count": null,
   "metadata": {},
   "outputs": [],
   "source": [
    "fig,ax = plt.subplots(1,1,figsize=(7,6))\n",
    "\n",
    "# Color with colormap based on quantitative variable\n",
    "sp = ax.scatter(mD[\"Age\"], mD[\"SARS2Peps\"], c=mD[\"Days from PCR diagnosis\"], cmap=\"viridis\")\n",
    "#sp = ax.scatter(mD[\"Age\"], mD[\"SARS2Peps\"], c=mD[\"Days from PCR diagnosis\"], cmap=\"plasma\")\n",
    "\n",
    "#cbar = fig.colorbar(sp)\n",
    "#cbar.set_label('Days from PCR diagnosis', fontsize=20)\n",
    "\n",
    "ax.set_xlabel(\"Donor Age\", fontsize=25)\n",
    "ax.set_ylabel(\"Enriched SARS-CoV-2 Peptides\", fontsize=25)\n"
   ]
  },
  {
   "cell_type": "markdown",
   "metadata": {},
   "source": [
    "# Heat map"
   ]
  },
  {
   "cell_type": "code",
   "execution_count": null,
   "metadata": {},
   "outputs": [],
   "source": [
    "# Read in data, dataframe \n",
    "allDF = pd.read_csv(\"heatmap_data.tsv\", sep=\"\\t\", header=0)\n",
    "\n",
    "# Create df with just data to plot\n",
    "dataDF = allDF[allDF.columns[4:]]\n",
    "\n",
    "# Initiate canvas\n",
    "fig,ax = plt.subplots(figsize=(9,4),facecolor='w')\n",
    "\n",
    "# Set x-axis label\n",
    "ax.set_xlabel(\"Hemagglutinin subtype\", fontsize=22)\n",
    "\n",
    "# Plot heat map\n",
    "im = ax.imshow(dataDF, cmap='plasma', aspect='auto')\n",
    "\n",
    "# Generate list with y tick labels\n",
    "yLabels = []\n",
    "for index, row in allDF.iterrows():\n",
    "    yLabels.append(f\"{row['HAtype']} | {row['Host']} | {row['CaptureProtein']}\")\n",
    "\n",
    "# Modify y tick labels\n",
    "ax.set_yticks(range(10))\n",
    "ax.set_yticklabels(yLabels, fontsize=14)\n",
    "\n",
    "# Modify y tick labels\n",
    "ax.set_xticks(range(14))\n",
    "ax.set_xticklabels(allDF.columns[4:], fontsize=14)\n",
    "\n",
    "# Generate color bar\n",
    "cbar = fig.colorbar(im)\n",
    "cbar.set_label('Relative enrichment', fontsize=20)\n",
    "\n",
    "# Save figure\n",
    "#plt.savefig('FluA-HA_realtiveEnrichment.png',dpi=200,bbox_inches='tight')\n",
    "#plt.savefig('FluA-HA_realtiveEnrichment.pdf',bbox_inches='tight')\n"
   ]
  },
  {
   "cell_type": "markdown",
   "metadata": {},
   "source": [
    "# Map"
   ]
  },
  {
   "cell_type": "code",
   "execution_count": null,
   "metadata": {},
   "outputs": [],
   "source": [
    "# Read in points representing \"centers\" of districts, provided as lat and lon\n",
    "df = pd.read_csv('SLE_district_centroids.txt', index_col=0, sep=\"\\t\", header=None, names = [\"Longitude\", \"Latitude\"])"
   ]
  },
  {
   "cell_type": "code",
   "execution_count": null,
   "metadata": {},
   "outputs": [],
   "source": [
    "df"
   ]
  },
  {
   "cell_type": "code",
   "execution_count": null,
   "metadata": {},
   "outputs": [],
   "source": [
    "# Read in district polygons\n",
    "json=pd.read_json(\"SLE_v3.geojson\") ## load data"
   ]
  },
  {
   "cell_type": "code",
   "execution_count": null,
   "metadata": {},
   "outputs": [],
   "source": [
    "json"
   ]
  },
  {
   "cell_type": "code",
   "execution_count": null,
   "metadata": {},
   "outputs": [],
   "source": [
    "# Initialize canvas\n",
    "fig,ax = plt.subplots(figsize=(10,10),facecolor='w')\n",
    "\n",
    "## iterate through features (locations)\n",
    "for loc in json['features']: \n",
    "    pc = np.array(loc['geometry']['coordinates'], dtype=object) ## get coordinates\n",
    "\n",
    "    location=loc['properties']['location'] ## standardised location name\n",
    "    if loc['geometry']['type']=='MultiPolygon': ## multiple parts detected\n",
    "        for part in pc:\n",
    "            for coords in part:\n",
    "                poly=plt.Polygon(coords,facecolor='#2ca25f',edgecolor='black')\n",
    "                ax.add_patch(poly)\n",
    "\n",
    "        # Add location label\n",
    "        #ax.text(df[\"Longitude\"][location], df[\"Latitude\"][location], location, ha='center')\n",
    "\n",
    "    if loc['geometry']['type']=='Polygon': ## location is single part\n",
    "        for coords in pc:\n",
    "            poly=plt.Polygon(coords,facecolor='#2ca25f',edgecolor='white')\n",
    "            ax.add_patch(poly)\n",
    "        \n",
    "        # Add location label\n",
    "        #ax.text(df[\"Longitude\"][location], df[\"Latitude\"][location], location, ha='center')\n",
    "\n",
    "\n",
    "# Need to change axes limits to see polygons\n",
    "ax.set_ylim([6.6,10.2])\n",
    "ax.set_xlim([-13.7,-10])\n",
    "\n",
    "\n",
    "# Hide axes\n",
    "# plt.axis('off')\n",
    "\n"
   ]
  },
  {
   "cell_type": "code",
   "execution_count": null,
   "metadata": {},
   "outputs": [],
   "source": []
  }
 ],
 "metadata": {
  "kernelspec": {
   "display_name": "Python 3",
   "language": "python",
   "name": "python3"
  },
  "language_info": {
   "codemirror_mode": {
    "name": "ipython",
    "version": 3
   },
   "file_extension": ".py",
   "mimetype": "text/x-python",
   "name": "python",
   "nbconvert_exporter": "python",
   "pygments_lexer": "ipython3",
   "version": "3.8.5"
  }
 },
 "nbformat": 4,
 "nbformat_minor": 2
}
