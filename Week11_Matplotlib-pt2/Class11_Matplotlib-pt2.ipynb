{
 "cells": [
  {
   "cell_type": "markdown",
   "metadata": {
    "collapsed": true
   },
   "source": [
    "#  Assignment 1.1\n",
    "\n",
    "## In the 'Demo' directory for this week, you will find a file called 'pepCountData.tsv'. This is a tab-delimited data file containing three data columns.\n",
    "\n",
    "## Read in these data and create a scatter plot with 'ControlCount' on the x-axis and 'SampleCount' on the y-axis.\n",
    "\n",
    "## Use a color map (of your choosing) to color each point according to the value in the 'SampleZ' column, and make sure to include a color bar. \n",
    "\n",
    "## Make sure to adjust the marker size and transparency to allow for the viewer to get a good sense of the relative density of the points.\n",
    "\n",
    "## Inlcude appropriate labels for the axes and colorbar. \n",
    "\n"
   ]
  },
  {
   "cell_type": "code",
   "execution_count": null,
   "metadata": {},
   "outputs": [],
   "source": []
  },
  {
   "cell_type": "markdown",
   "metadata": {
    "collapsed": true
   },
   "source": [
    "#  Assignment 1.2\n",
    "\n",
    "## In the 'Assignment' directory for this week, you will find a file called 'gz_2010_us_040_00_20m.json'. This is a geojson file that includes polygons for all of the US states (and some territories).\n",
    "\n",
    "## Use this file to generate a map of the US, setting the x and y limits appropriately so that only the continental 48 states are visible. \n",
    "\n",
    "## Modify the color of each state according to its name, with one color for states that start with the letters A-G, a 2nd color for those that start with H-N and a 3rd for those that start with O-Z. (Note: the 'property' containing the state names is named differently than in the Demo example). \n",
    "\n",
    "## For one state of your choosing, please use a distinctive color for the outline/border and include a label of your choosing that is either contained within your state's borders or is nearby (depending on the size of your state).\n",
    "\n",
    "## Make sure that the axes are hidden. \n",
    "\n"
   ]
  },
  {
   "cell_type": "code",
   "execution_count": null,
   "metadata": {},
   "outputs": [],
   "source": []
  }
 ],
 "metadata": {
  "kernelspec": {
   "display_name": "Python 3",
   "language": "python",
   "name": "python3"
  },
  "language_info": {
   "codemirror_mode": {
    "name": "ipython",
    "version": 3
   },
   "file_extension": ".py",
   "mimetype": "text/x-python",
   "name": "python",
   "nbconvert_exporter": "python",
   "pygments_lexer": "ipython3",
   "version": "3.8.5"
  }
 },
 "nbformat": 4,
 "nbformat_minor": 2
}
