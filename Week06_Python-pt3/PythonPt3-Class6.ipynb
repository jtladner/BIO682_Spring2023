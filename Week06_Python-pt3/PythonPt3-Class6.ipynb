{
 "cells": [
  {
   "cell_type": "markdown",
   "metadata": {
    "collapsed": true
   },
   "source": [
    "# This notebook will introduce you to even more Python syntax\n",
    "##   Particularly, it will focus on 1) list/dictionary comprehension, 2) reading from/writing to files, 3) string formatting and 4) python modules."
   ]
  },
  {
   "cell_type": "markdown",
   "metadata": {},
   "source": [
    "# List comprehension"
   ]
  },
  {
   "cell_type": "code",
   "execution_count": null,
   "metadata": {},
   "outputs": [],
   "source": [
    "# List comprehension is a really powerful tool that allows for simple for loops that generate a list\n",
    "\n",
    "# Here is a simple example that takes a list of integers and turns them into strings\n",
    "#First, we need to generate the starting list of integers:\n",
    "intlist = list(range(10))\n",
    "print(\"List of integers:\", intlist)\n",
    "\n",
    "# Now, we can use list comprehension to generate a corresponding list of strings, in a single command:\n",
    "strlist = [str(x) for x in intlist]\n",
    "print(\"\\nList of strings generated with list comprehension:\", strlist)\n",
    "\n",
    "# Note: The 'x' in the above command is an arbitrrarily chosen variable\n",
    "    # which serves as a placeholder for each integer within intlist"
   ]
  },
  {
   "cell_type": "code",
   "execution_count": null,
   "metadata": {},
   "outputs": [],
   "source": [
    "# Here is another version where every integer in the list is multiplied by 10\n",
    "# And just for fun, I've used a different variable name\n",
    "x10list = [each*10 for each in intlist]\n",
    "print(\"\\nList of integers multiplied by 10:\", x10list)"
   ]
  },
  {
   "cell_type": "code",
   "execution_count": null,
   "metadata": {},
   "outputs": [],
   "source": [
    "# You can even use if statements within list comprehension\n",
    "# In this case, we only include the integer from intlist if it is even (i.e., divisible by 2)\n",
    "# But still, for those that are included, we are multiplying by 10\n",
    "x10listeven = [each*10 for each in intlist if each%2==0]\n",
    "print(\"\\nList of even integers multiplied by 10:\", x10listeven)"
   ]
  },
  {
   "cell_type": "code",
   "execution_count": null,
   "metadata": {},
   "outputs": [],
   "source": [
    "# And here is an example of a list comprehension that uses both if and else\n",
    "ifelselist = [each/2 if each%2==0 else each*2 for each in intlist]\n",
    "print(\"\\nList of even integers divided by 2 and odd integers multiplied by 2:\", ifelselist)"
   ]
  },
  {
   "cell_type": "markdown",
   "metadata": {},
   "source": [
    "# Assignment 1.1\n",
    "## The next cell contains a string of tab-delimited integers. With this as a starting place, please do the following:\n",
    "### 1. Convert the string into a list (note: this could happen prior to or within the list comprehension).\n",
    "### 2. Use list comprehension to generate a new version of the list called l2 that only contains integers >=2.\n",
    "### 3. Print the length of l2, as well as the sum of the integers contained in l2. \n"
   ]
  },
  {
   "cell_type": "code",
   "execution_count": null,
   "metadata": {},
   "outputs": [],
   "source": [
    "s=\"2\\t0\\t1\\t2\\t0\\t0\\t2\\t3\\t0\\t0\\t4\\t8\\t0\\t0\\t1\\t3\\t0\\t0\\t0\\t0\\t1\\t0\\t2\\t2\\t3\\t0\\t0\\t0\\t3\\t0\\t1\\t5\\t1\\t2\\t0\\t0\\t1\\t0\\t1\\t0\\t0\\t1\\t1\\t4\\t0\\t0\\t0\\t0\\t4\\t0\\t2\\t2\\t1\\t2\\t1\\t1\\t1\\t1\\t0\\t0\\t0\\t1\\t0\\t3\\t0\\t5\\t0\\t1\\t1\\t0\\t0\\t2\\t1\\t0\\t4\\t0\\t0\\t0\\t0\\t2\\t1\\t0\\t1\\t5\\t0\\t3\\t2\\t3\\t4\\t0\\t0\\t0\\t1\\t0\\t8\\t0\"\n",
    "\n"
   ]
  },
  {
   "cell_type": "markdown",
   "metadata": {},
   "source": [
    "# Assignment 1.2\n",
    "## The next cell contains a list with Lassa virus Z gene sequences. Use list comprehension to:\n",
    "### 1. Generate a list containing the length of each gene.\n",
    "### 2. Generate a separate list with the % GC content for each gene.\n",
    "## Please print both new lists.\n"
   ]
  },
  {
   "cell_type": "code",
   "execution_count": null,
   "metadata": {},
   "outputs": [],
   "source": [
    "genes = [\"ATGGGCAACAGACAGGCTAAACCGACAAAAGTCGACGAACATCAAAGAGCTCACCTAGTGCCAGATGCATCCCATCTAGGCCCTCAGTTTTGCAAAAGTTGCTGGTTTGAGAACAAGGGGTTGGTAGAGTGCAACAACCACTACCTGTGTCTCAACTGTCTCAGCCTGCTCCTCAGCGTTAGCAGCAGATGCCCGATCTGCAAGATGCCCCTTCCCACCAAGCTGAAGGCAGCAGCACAGCCGAGCGCACCCTCAACTGAGGCGGCCCAGAACACAGCACCTCCACCGTATGCCCCATGA\", \n",
    "         \"ATGGGAAACAAGCAAGCCAAGGCCCCAGAACCAAAGGATAGTCCGAGAGCCAGCCTGATCCCAGATGCTACACATCTAGGGCCACAGTTCTGTAAGAGCTGCTGGTTCGAAAACAAGGGCCTGGTTGAGTGCAACAACCACTATTTGTGCCTCAACTGCCTCACCTTACTCTTAAGTGTCAGCAACAGGTGCCCCATCTGCAAGATGCCTCTCCCCACAAAACTGAGACCATCAGCCGCTCCGACAGCACCCCCAGCCGGAGCAGTGGACAGCATCAGACCTCCACCCTACAGTCCCTGA\", \n",
    "         \"ATGGGGAATAAGCAAGCCAAAGATCCAAAGACAGAGAGCAGCCCAAGGGCCAGTCTCATTCCGGATGCCACACACCTTGGACCACAATTTTGCAAGAGTTGTTGGTTTGAAAACAAAGGTTTAGTTGAGTGTAACAACCACTACCTGTGCCTCAACTGCCTCTCCCTACTTTTGAGTGTCAGCAACAGGTGCCCCATCTGTAAGATGCCTCTTCCCACGAAGCTCAAGCCGATAACCACGCCAACAGCACCACAAATCACCAGAGAGAGCATCACCAATCCCCCACCATACACACCCTAA\", \n",
    "         \"ATGGGAGCCAGACAGACCAAGCAACCTCAGATTGAGGGATCTCCTAGAGCCTCTCTGGTGCCCGATGCAAGCCATCTAGGACCCCAGTTCTGCAAGAGCTGCTGGTTTGAGAACAAAGGGCTTGTGGAGTGTAACAATCATTACCTTTGCCTCAATTGCCTCAGCCTCCTACTCAGTGTCAGCAACAGGTGCCCTATCTGCAAGATGCCCCTCCCCACCAAGCTGAGAGTGTCAAGCGCTCCCAGTGCACCCCCAGCGGCCACGGCCCAACCCGGAACTCCTCCACCATACAGCCCCTAG\", \n",
    "         \"ATGGGCAACAAGCAGACCAGGTCCCCACCCAAACCAGAGCACCCCAGACCAACCCTGCTACCCGACGCATCCCACCTGGGCCCCCAATTCTGCAAGAGCTGCTGGTTTGAGAACAAGGGACTGGTGGAGTGTAATAACCATTACCTCTGTCTAAACTGTCTCACACTGCTTCTCAGCGTGAGCGACAGATGTCCTATTTGTAAGATGCCCCTCCCCACCAAGCTGGCAGTCCGAACCCAACCAAGTGCACCCCCACTCAACCAGGGCAACACTCAATCCTCCCCGCCCCCCTACAGCCCCTAA\"]\n"
   ]
  },
  {
   "cell_type": "markdown",
   "metadata": {},
   "source": [
    "# Dictionary comprehension"
   ]
  },
  {
   "cell_type": "code",
   "execution_count": null,
   "metadata": {},
   "outputs": [],
   "source": [
    "# This 'simplified version of a for loop' syntax can also be applied to dictionaries\n",
    "\n",
    "# Here is a simple example that creates a dictionary with:\n",
    "# 1. keys for the integers 0-9\n",
    "# 2. Corresponding values that are the integer squared\n",
    "d = {x:x**2 for x in range(10)}\n",
    "print(\"Dictionary generated with dict comprehension:\", d)\n"
   ]
  },
  {
   "cell_type": "code",
   "execution_count": null,
   "metadata": {},
   "outputs": [],
   "source": [
    "# Dictionary comprehension is also a handy way to initialize values in a dictionary for a set of keys\n",
    "\n",
    "# Let's say we wanted to use a dictionary to keep track of samples originating from each zip code in Flagstaff\n",
    "    # We can use dict comprehension to initiate a dictionary with a key for each zip code and a value of zero\n",
    "zips = [\"86001\", \"86002\", \"86004\", \"860011\"]\n",
    "zipCounts = {k:0 for k in zips}\n",
    "print(\"This dictionary is ready to go:\", zipCounts)"
   ]
  },
  {
   "cell_type": "code",
   "execution_count": null,
   "metadata": {},
   "outputs": [],
   "source": [
    "# As an aside...there may be times when you want to use a dictionary to store counts,\n",
    "    # But you won't know ahead of time all the keys you'll want to use \n",
    "# In these cases, the get() list method can be very useful\n",
    "# It can be used to retrieve an existing value from a dictionary, but if the key doesn't exist\n",
    "# It can return a default value instead\n",
    "\n",
    "# Here is a simple dictionary we can use for some examples\n",
    "testD = {\"a\":2, \"b\":3, \"c\":6}\n",
    "\n",
    "# Here we are saying to retrieve the value associated with a given key\n",
    "# Or to return 0, if the key does not exist\n",
    "print(testD.get(\"a\", 0))   # Because \"a\" is in the dictionary, it will return the value 2\n",
    "print(testD.get(\"d\", 0))   # Because \"d\" is NOT in the dictionary, it will return the value 0\n",
    "\n",
    "# And this type of call can easily be used to increment values each time a key is observed\n",
    "# For example:\n",
    "testD[\"a\"] = testD.get(\"a\", 0) + 1\n",
    "testD[\"d\"] = testD.get(\"d\", 0) + 1\n"
   ]
  },
  {
   "cell_type": "code",
   "execution_count": null,
   "metadata": {},
   "outputs": [],
   "source": [
    "# Now, let's print the new values associated with the \"a\" and \"d\" keys\n",
    "print(testD[\"a\"])\n",
    "print(testD[\"d\"])\n"
   ]
  },
  {
   "cell_type": "code",
   "execution_count": null,
   "metadata": {},
   "outputs": [],
   "source": [
    "# We can also use if/else in dict comprehension\n",
    "    # But these are handled separately for the key and the value\n",
    "\n",
    "# For example, here the value depends on whether the integer is even or odd\n",
    "numTypes = {i:(\"even\" if i%2==0 else \"odd\") for i in range(10)}\n",
    "print(numTypes)"
   ]
  },
  {
   "cell_type": "code",
   "execution_count": null,
   "metadata": {},
   "outputs": [],
   "source": [
    "# And we can also include if statements at the very end to determine which keys are included\n",
    "\n",
    "# Here, we're only including keys >=5\n",
    "numTypes_min5 = {i:(\"even\" if i%2==0 else \"odd\") for i in range(10) if i>=5}\n",
    "print(numTypes_min5)"
   ]
  },
  {
   "cell_type": "markdown",
   "metadata": {},
   "source": [
    "# Assignment 1.3\n",
    "## The next cell contains a list of integers called intsL. For this assignment, please do the following:\n",
    "### 1. Use dictionary comprehension to initiate a dictionary called intsD that contains a key for each integer in intsL, along with a value of 0. Note: it's ok to overwrite keys in this step, but you can also use a set() to handle duplicates. https://realpython.com/python-sets/\n",
    "### 2. Write a for loop that iterates through intsL and for each integer encountered, increment the associated value in intsD. \n",
    "## Please print intsD before and after your for loop.\n"
   ]
  },
  {
   "cell_type": "code",
   "execution_count": null,
   "metadata": {},
   "outputs": [],
   "source": [
    "intsL = [4, 0, 0, 0, 2, 0, 5, 3, 0, 0, 0, 3, 2, 0, 1, 0, 0, 0, 0, 1, 3, 0, 1, 2, 0, 3, 0, 1, 0, 0, 0, 5, 1, 0, 1, 0, 0, 0, 4, 0, 0, 2, 0, 1, 3, 0, 0, 0, 21, 1, 6, 0, 2, 0, 0, 0, 12, 0, 0, 2, 1, 0, 1, 3, 2, 2, 0, 1, 2, 0, 6, 1, 1, 0, 1, 0, 0, 12, 0, 3, 1, 5, 3, 1, 0, 0, 0, 4, 8, 1, 3, 0, 3, 0, 0, 2]\n",
    "\n"
   ]
  },
  {
   "cell_type": "markdown",
   "metadata": {},
   "source": [
    "### 3. In the next cell, remake the intsD dictionary using the empty \"intsD2\" dictionary as a starting place. Instead of using dictionary comprehension to initiate the keys with the value 0, use the get() method within the for loop. "
   ]
  },
  {
   "cell_type": "code",
   "execution_count": null,
   "metadata": {},
   "outputs": [],
   "source": [
    "intsD2 = {}\n",
    "\n"
   ]
  },
  {
   "cell_type": "markdown",
   "metadata": {},
   "source": [
    "# Reading from files"
   ]
  },
  {
   "cell_type": "code",
   "execution_count": null,
   "metadata": {},
   "outputs": [],
   "source": [
    "# An important part of most analysis scripts is reading information from a file\n",
    "\n",
    "# Here is an example where a file is opened, and stepped through line by line\n",
    "    # And the first five lines are printed to the screen\n",
    "\n",
    "#Note: I'm using a relative path to the file, but you could also use an absolute path\n",
    "with open(\"Assignment/MACVCarvallo68_R1_Q20_cutadapt_paired_bwamem_3.5_dels.txt\", \"r\") as fin:\n",
    "    linecount=0             # Initiates a linecount variable\n",
    "    for line in fin:        # Steps through the file line-by-line\n",
    "        linecount+=1        # Increments the linecount variable\n",
    "        if linecount<=5:    # Checks to see if the linecount is less than or equal to 5\n",
    "            print (line)    # Print the line from the file\n",
    "\n",
    "print(\"Total line count:\", linecount)            # Print the total number of lines in the file\n"
   ]
  },
  {
   "cell_type": "code",
   "execution_count": null,
   "metadata": {},
   "outputs": [],
   "source": [
    "# One group of string methods commonly used when reading from input files are the strip methods\n",
    "# These are used to remove certain characters from the beginning and/or end of a string\n",
    "\n",
    "# By default, these methods will remove all kinds of whitespace characters\n",
    "\n",
    "# strip() will remove these characters from both the beginning and the end of the string\n",
    "print(\"strip() version:\",  \"\\t\\n \\n\\t This part of the string will remain. \\t\\t\\t\\n\\n\\n\\n\\n\".strip())\n"
   ]
  },
  {
   "cell_type": "code",
   "execution_count": null,
   "metadata": {},
   "outputs": [],
   "source": [
    "# rstrip() will remove these characters only from the end (\"right\") of the string\n",
    "print(\"rstrip() version:\",  \"  \\t\\n \\n\\t This part of the string will remain. \\t\\t\\t\\n\\n\\n\\n\\n\".rstrip())\n"
   ]
  },
  {
   "cell_type": "code",
   "execution_count": null,
   "metadata": {},
   "outputs": [],
   "source": [
    "# lstrip() will remove these characters only from the beginning (\"left\") of the string\n",
    "print(\"lstrip() version:\",  \"  \\t\\n \\t This part of the string will remain. \\t\\t\\t\\n\\n\\n\\n\\n\".lstrip())\n"
   ]
  },
  {
   "cell_type": "code",
   "execution_count": null,
   "metadata": {},
   "outputs": [],
   "source": [
    "# But you can also provide these functions with specific characters to remove\n",
    "# A common use to to remove end of line characters when reading lines from a file\n",
    "    # Which you can do like this:\n",
    "line = \"When you read in lines from a file, they will end with a new line character.\\n\"\n",
    "line = line.rstrip(\"\\n\")\n",
    "line"
   ]
  },
  {
   "cell_type": "code",
   "execution_count": null,
   "metadata": {},
   "outputs": [],
   "source": [
    "# One of the most common things I do when reading in lines from a tab-delimited file\n",
    "    # Is to remove the line ending character and split on tabs to make a list\n",
    "    # And I can do this all in one go, like this\n",
    "\n",
    "l = \"one\\ttwo\\tthree\\n\"\n",
    "cols = l.rstrip(\"\\n\").split(\"\\t\")\n",
    "print(cols)"
   ]
  },
  {
   "cell_type": "markdown",
   "metadata": {},
   "source": [
    "# Assignment 1.4\n",
    "## In the next cell:\n",
    "### 1. Step through the fasta file, \"Assignment/694003_Betacoronavirus-1_Spike_mafft-ginsi_nearFull.fasta\", line by line. \n",
    "### 2. Create a list called \"names\" that contains all of the sequence names from this fasta file. Remember, all name lines begin with \">\", but \">\" is NOT part of the name. Also make sure you remove the end of line characters before adding the names to the list. \n",
    "### 3. Use len() to determine the number of sequences contained in this file, and print this value to the screen.\n",
    "### 4. Use print() to display the first and last items in \"names\"\n"
   ]
  },
  {
   "cell_type": "code",
   "execution_count": null,
   "metadata": {},
   "outputs": [],
   "source": [
    "\n"
   ]
  },
  {
   "cell_type": "markdown",
   "metadata": {},
   "source": [
    "# String formatting"
   ]
  },
  {
   "cell_type": "code",
   "execution_count": null,
   "metadata": {},
   "outputs": [],
   "source": [
    "# Up to this point, in this notebook and those from previous classes, I've been printing all different types of variables to the screen \n",
    "    # simply by separating them with commas following the print statement\n",
    "# This approach is simple because it accepts any type of variable, but you don't have much control over how output is displayed\n",
    "    # They are always just separated by a single space\n",
    "# String formatting provides better control over the way that results are output\n",
    "    # And in fact string formatting is useful in many contexts, not just printing results to the screen\n",
    "\n",
    "# Here is the basic syntax for string formatting using the % operator, as described in your book.\n",
    "\n",
    "# \"string result\" % (variable1, variable2, etc.)\n",
    "\n",
    "# For each variable that you want to include in the string, you need to include a placeholder\n",
    "    # which always starts with a '%' character\n",
    "\n",
    "# Here are the primary placeholders you will need:\n",
    "    # %s is for a string\n",
    "    # %d is for an integer\n",
    "    # %f is for a floating point\n",
    "\n",
    "# Here is an example of string formatting including all of these variable types\n",
    "string1 = \"male\"\n",
    "string2 = \"eagles\"\n",
    "integer = 331\n",
    "floating = 55.9\n",
    "output = \"We observed %d %s, %.2f%% were %s.\" % (integer, string2, floating, string1)\n",
    "print (output)\n",
    "\n",
    "# A couple notes about this example:\n",
    "#    1. The \".2\" between '%' and 'f' controls the number of digits shown following the decimal point\n",
    "#    2. Because '%' is a special character used in string formatting, \n",
    "#       if you actual want a '%' in your string, you need to use '%%'\n",
    "\n"
   ]
  },
  {
   "cell_type": "code",
   "execution_count": null,
   "metadata": {},
   "outputs": [],
   "source": [
    "# Here is an example where I'm printing a series of integers (one per line) without string formatting\n",
    "for i in range(1,7):\n",
    "    print(10**i)"
   ]
  },
  {
   "cell_type": "code",
   "execution_count": null,
   "metadata": {},
   "outputs": [],
   "source": [
    "# Here, I use string formatting to right-adjust these integers\n",
    "for i in range(1,7):\n",
    "    print(\"%7d\" % (10**i))"
   ]
  },
  {
   "cell_type": "code",
   "execution_count": null,
   "metadata": {},
   "outputs": [],
   "source": [
    "# Another approach for string formatting is using f-strings\n",
    "# Here, I've redone the first string formatting example using f-strings\n",
    "\n",
    "output = f\"We observed {integer} {string2}, {floating:.2f}% were {string1}.\"\n",
    "print (output)\n",
    "\n",
    "# Note the f character prior to the formatted string and \n",
    "    # the use of the curly brackets to denote the variables to insert"
   ]
  },
  {
   "cell_type": "markdown",
   "metadata": {},
   "source": [
    "# Assignment 1.5\n",
    "## In the next cell, I've defined several variables. Please use string formatting (% operator or f-strings) to print the following message using a single command AND using all of the defined variables:\n",
    "\n",
    "## \"88.9% of male patients and 67.3847% of female patients completed trial A-00100.\" \n"
   ]
  },
  {
   "cell_type": "code",
   "execution_count": null,
   "metadata": {},
   "outputs": [],
   "source": [
    "a = 67.38475\n",
    "b = 88.9183740\n",
    "c = \"male\"\n",
    "d = \"female\"\n",
    "e = 100\n",
    "\n"
   ]
  },
  {
   "cell_type": "markdown",
   "metadata": {},
   "source": [
    "# Writing to files"
   ]
  },
  {
   "cell_type": "code",
   "execution_count": null,
   "metadata": {},
   "outputs": [],
   "source": [
    "# Another important aspect of most analysis scripts is the writing of results to output files\n",
    "# Here, I'm opening a new output file for writing \n",
    "with open(\"powers.tsv\", \"w\") as fout:\n",
    "    fout.write(\"Integer\\tInteger^2\\tInteger^3\\tInteger^4\\n\") # Adding header row\n",
    "    # Now I'm stepping through the integers 2-10\n",
    "    for i in range(2,11):\n",
    "        # And for each of these integers, I'm writing a new line to the output file\n",
    "            # This line will include the starting integer, \n",
    "            # as well as that integer to the power of 2, 3 and 4, separated by tabs\n",
    "        fout.write(f\"{i}\\t{i**2}\\t{i**3}\\t{i**4}\\n\")  #Note: I'm using string formatting to make the output tab-delimited\n",
    "\n",
    "# After running this cell, open the resulting output file with your plain text editor to see the results"
   ]
  },
  {
   "cell_type": "code",
   "execution_count": null,
   "metadata": {},
   "outputs": [],
   "source": [
    "# You can also nest several different with statements\n",
    "# For example, to open both read and write mode file objects\n",
    "\n",
    "with open(\"output.txt\", \"w\") as fout:       # First, I'm opening a write mode file object\n",
    "    with open(\"input.txt\", \"r\") as fin:     # Now, I'm opening a read mode file object\n",
    "        \n",
    "        for line in fin:                    # Stepping through the lines in the input file\n",
    "            if line.startswith('Would'):\n",
    "                fout.write(line)            # Writing lines that start with \"Would\" to the output file"
   ]
  },
  {
   "cell_type": "markdown",
   "metadata": {},
   "source": [
    "# Assignment 1.6\n",
    "## The file \"assignment/MACVCarvallo68_R1_Q20_cutadapt_paired_bwamem_3.5_dels.txt\" contains information about defective interfering genomes of Machupo virus. With the exception of the header, each line contains information about a particular deletion muant. \n",
    "\n",
    "## Write python code that reads through this file line by line and:\n",
    "\n",
    "### 1. Creates a dictionary containing one key for each unique mutant (i.e., same \"RefName\", \"DelLeft\" and \"DelRight\") and with the values indicating the number of occurences of the corresponding mutant.\n",
    "\n",
    "\n",
    "### 2. Creates an output file called \"unique_deletions.tsv\" that includes one row per unique mutant and four tab-delimited columns: \"RefName\", \"DelLeft\", \"DelRight\" and the number of occurrences. Please make sure that your output fille includes a header row. \n",
    "\n",
    "## Please upload your output file to BbLearn along with your completed jupyter notebook. \n"
   ]
  },
  {
   "cell_type": "code",
   "execution_count": null,
   "metadata": {},
   "outputs": [],
   "source": [
    "\n",
    "\n"
   ]
  }
 ],
 "metadata": {
  "kernelspec": {
   "display_name": "Python 3",
   "language": "python",
   "name": "python3"
  },
  "language_info": {
   "codemirror_mode": {
    "name": "ipython",
    "version": 3
   },
   "file_extension": ".py",
   "mimetype": "text/x-python",
   "name": "python",
   "nbconvert_exporter": "python",
   "pygments_lexer": "ipython3",
   "version": "3.8.5"
  }
 },
 "nbformat": 4,
 "nbformat_minor": 2
}
