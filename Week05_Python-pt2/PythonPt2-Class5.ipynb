{
 "cells": [
  {
   "cell_type": "markdown",
   "metadata": {
    "collapsed": true
   },
   "source": [
    "# This notebook will introduce you to some more basic Python syntax\n",
    "##   (Particularly, it will focus on lists, control statements and loops)"
   ]
  },
  {
   "cell_type": "markdown",
   "metadata": {
    "collapsed": true
   },
   "source": [
    "# List Indexing"
   ]
  },
  {
   "cell_type": "code",
   "execution_count": null,
   "metadata": {},
   "outputs": [],
   "source": [
    "# Let's start by defining a list variable\n",
    "l = [1, 3, \"11\", 5.0, 6, 8, 10]\n",
    "\n",
    "# The items in a list are ordered and you can use indexing to retrieve particular elements from a list\n",
    "# But, there are two different indexing schemes you can use\n",
    "\n",
    "# The one you will probably most commonly use is Positive Indexing\n",
    "# These indices start at the beginning of the list, with the index 0\n",
    "\n",
    "# Therefore, here is how you can retieve the first element of the list\n",
    "print (\"Here is the first element of the list:\", (l[0]))\n",
    "\n",
    "# And likewise, here is how you access the second element of the list\n",
    "print (\"Here is the second element of the list:\", (l[1]))"
   ]
  },
  {
   "cell_type": "code",
   "execution_count": null,
   "metadata": {},
   "outputs": [],
   "source": [
    "# The 2nd indexing scheme is called Negative Indexing\n",
    "# These indices start at the end of the list, with the index -1\n",
    "# And these are most useful more accessing items at the very end of a list\n",
    "\n",
    "# Here is how you can retieve the last element of the list\n",
    "print (\"Here is the last element of the list:\", (l[-1]))\n",
    "\n",
    "# Here is how you can retieve the second to last element of the list\n",
    "print (\"Here is the second to last element of the list:\", (l[-2]))"
   ]
  },
  {
   "cell_type": "markdown",
   "metadata": {
    "collapsed": true
   },
   "source": [
    "# List Slicing"
   ]
  },
  {
   "cell_type": "code",
   "execution_count": null,
   "metadata": {},
   "outputs": [],
   "source": [
    "# You can also extract a range of items from the list, by specifying start and stop indices separated by a \":\"\n",
    "# **Remember**: the first index is inclusive, the second is exclusive\n",
    "\n",
    "# Here, I'm slicing the first two elements from the list\n",
    "print (\"Here are the first two elements of the list: \", l[0:2])\n",
    "\n",
    "# Because our subset starts at the very beginning of the list, we can also just use\n",
    "print (\"Same thing, different syntax:\", l[:2], \"\\n\")\n",
    "\n",
    "# You can also slice lists using negative indices\n",
    "print (\"Here are the last two elements of the list, specified with negative indices:\", l[-2:])\n",
    "# Note: because the last index is exclusive, this version will exclude the last value\n",
    "print (\"Not the same thing:\", l[-2:-1])\n"
   ]
  },
  {
   "cell_type": "code",
   "execution_count": null,
   "metadata": {},
   "outputs": [],
   "source": [
    "# One thing to notice is that list slicing always returns a new list, with the subset of items\n",
    "print(\"l[:2]\", l[:2], type(l[:2]))\n",
    "print(\"l[-3:]\", l[-3:], type(l[-3:]))\n",
    "# This is true even is your slice only includes a single value\n",
    "print(\"l[-3:-2]\", l[-3:-2], type(l[-3:-2]), \"\\n\")\n",
    "\n",
    "# However, the data type returned by indexing will depend on the data type of the item being retieved\n",
    "print(\"l[1]\", l[1], type(l[1]))\n",
    "print(\"l[2]\", l[2], type(l[2]))\n",
    "print(\"l[3]\", l[3], type(l[3]))\n"
   ]
  },
  {
   "cell_type": "markdown",
   "metadata": {
    "collapsed": true
   },
   "source": [
    "# Converting between lists and strings"
   ]
  },
  {
   "cell_type": "code",
   "execution_count": null,
   "metadata": {},
   "outputs": [],
   "source": [
    "# A common task when reading in data from a file is to convert a string into a list\n",
    "# Let's use this starting string as an example\n",
    "filestring = \"1000\\tblue\\t3.4567\\t1 July 2006\\t-336ft\\t122 22.48 W\"\n",
    "\n",
    "# You can use the list() function, but this will create one item in the list for every character in the string\n",
    "alist = list(filestring)\n",
    "print(\"A list generated with the list() function, contains\", len(alist), \"items:\")\n",
    "print(alist)\n",
    "# This is not typically the desired result\n",
    "\n",
    "# Alternatively, you can use the built-in string method .split()\n",
    "    # In this case, you would want to split using the '\\t' delimiter\n",
    "alist = filestring.split('\\t')\n",
    "print(\"\\nA list generated with the built-in .split() function, contains\", len(alist), \"items:\")\n",
    "print(alist)\n"
   ]
  },
  {
   "cell_type": "code",
   "execution_count": null,
   "metadata": {},
   "outputs": [],
   "source": [
    "# When generating an output file, it's also often useful to join items of a list together to make a single string\n",
    "# This is easy to do using the the join method\n",
    "\n",
    "# Here, let's join back together the list we generated in the last cell, but this time using new line characters as the demiliter\n",
    "joined = \"\\n\".join(alist)\n",
    "print(type(joined))\n",
    "print(joined)"
   ]
  },
  {
   "cell_type": "markdown",
   "metadata": {},
   "source": [
    "# A warning"
   ]
  },
  {
   "cell_type": "code",
   "execution_count": null,
   "metadata": {},
   "outputs": [],
   "source": [
    "# Be careful when trying to make\"copies\" of mutable objects, like lists\n",
    "\n",
    "#Let's make a new list that contains the integers 0-9\n",
    "original = list(range(10))\n",
    "\n",
    "# This may seem like you're making a copy, but actually you're just creating a second variable \n",
    "    # that points to the original list\n",
    "pseudocopy = original\n",
    "print(\"\\nHere is the pseudocopy variable before altering the original:\")\n",
    "print (pseudocopy)\n",
    "\n",
    "# Now, let's replace [1,2,3] with ['B', 'C', 'D'] in the original list\n",
    "original[1:4] = ['B', 'C', 'D']\n",
    "print(\"Here is the pseudocopy variable after making a change to the original variable:\")\n",
    "print (pseudocopy)\n",
    "# Because the pseudocopy variable name simply points to the same list contained in the original variable\n",
    "# a change to original is also a change to pseudocopy"
   ]
  },
  {
   "cell_type": "code",
   "execution_count": null,
   "metadata": {},
   "outputs": [],
   "source": [
    "# Let's start over\n",
    "original = list(range(10))\n",
    "\n",
    "# Here is how to make an actual copy\n",
    "copy = original[:]\n",
    "print(\"\\nHere is the copy variable before altering the original:\")\n",
    "print (copy)\n",
    "original[1:4] = ['B', 'C', 'D']\n",
    "print(\"Here is the copy variable after making a change to the original variable:\")\n",
    "print (copy)\n",
    "\n",
    "# The copy is NOT altered!"
   ]
  },
  {
   "cell_type": "markdown",
   "metadata": {},
   "source": [
    "# Assignment 1.1\n",
    "\n",
    "## Within the next cell, I've generated a complex list of values and saved this list to the list1 variable. Don't worry about trying to understand what is happening on the line that's generating the list. This is just to establish a starting place.\n",
    "\n",
    "## Please add code to the cell to do the following:\n",
    "\n",
    "### 1. Use positive indexing to retrieve the 50th item in the list. Print the value of this item and it's type. \n",
    "### 2. Calculate the sum of the 50th, 75th and 100th items in the list\n",
    "### 3. Use negative indexing to calculate the sum of the last, 3rd to last and 5th to last items in the list\n",
    "### 4. Use list slicing to create a new list containing the first 26 items in the list. save this new list to a variable called abcs.\n",
    "### 5. Starting with abcs, use list indexing and the join method to create a *string* containing the last half of the alphabet. (*Note*: you can use an empty string as a delimiter)."
   ]
  },
  {
   "cell_type": "code",
   "execution_count": 91,
   "metadata": {},
   "outputs": [],
   "source": [
    "import string\n",
    "\n",
    "l = list(string.ascii_lowercase) + list(range(50,500,5)) + list(string.ascii_uppercase) + list(range(-5000,-500,100))"
   ]
  },
  {
   "cell_type": "markdown",
   "metadata": {
    "collapsed": true
   },
   "source": [
    "# Making decisions"
   ]
  },
  {
   "cell_type": "code",
   "execution_count": null,
   "metadata": {},
   "outputs": [],
   "source": [
    "# Another really important part of Python scripts are conditional statements\n",
    "    # These make it possible to have certain blocks of code executed only under certain circumstances\n",
    "\n",
    "# More often than not, these are in the form of if/else statements\n",
    "# For example:\n",
    "for each in range(1,11):\n",
    "    if each%3==0:  # % is the modulo operator and it returns the remainder after division. Remember, / is used for division.\n",
    "        print (each, \"is divsible by 3\")\n",
    "    else:\n",
    "        print (each, \"is NOT divsible by 3\")\n",
    "\n",
    "# An if statement must be followed by some type of logical expression to be evaluated\n",
    "    # If the result of that evaluation is True, then the block of code will be executed\n",
    "    # In the example above, we are testing to see if the remainder after dividing by three is equal \"==\" to 0\n",
    "# However, there are no logical expressions associated with an else statement\n",
    "    # Instead, the block of code following this statement is executed whenever the expression tested in the if statement is false\n",
    "\n"
   ]
  },
  {
   "cell_type": "code",
   "execution_count": null,
   "metadata": {},
   "outputs": [],
   "source": [
    "# There is also elif, which is a portmanteau of else and if\n",
    "    # elif must follow an if (or another elif) statement\n",
    "    # Like else, the block of code linked to the elif statement will only run if \n",
    "        # all proceeding if/elif statements are false\n",
    "    # However, in addition, there must be a logical expression associated with an elif statement\n",
    "        # And this expression must evaluate to True for the block of code to be executed\n",
    "\n",
    "# Here is an example that builds upon the previous if/else statements:\n",
    "for each in range(1,11):\n",
    "    if each%3==0:\n",
    "        print (each, \"is divsible by 3\")\n",
    "    elif each%2==0:\n",
    "        print (each, \"is NOT divsible by 3, but IS divisible by 2\")\n",
    "    else:\n",
    "        print (each, \"is NOT divsible by 2 or 3\")\n"
   ]
  },
  {
   "cell_type": "markdown",
   "metadata": {
    "collapsed": true
   },
   "source": [
    "# For Loops"
   ]
  },
  {
   "cell_type": "code",
   "execution_count": null,
   "metadata": {},
   "outputs": [],
   "source": [
    "# As you'll recall from class 3, which focused on shell scripting, \n",
    "    # 'for' loops cycle through each item in a list or other collection of values/variables\n",
    "        # And each time through, they execute the same block of commands\n",
    "# Therefore, 'for' loops provide a very efficient way to complete repetitive tasks\n",
    "\n",
    "# Here is a simple example that loops through a list of integers and prints their square roots\n",
    "print (\"for loop is about to start:\\n\")\n",
    "\n",
    "for each in range(2,21,2):\n",
    "    print (\"The square root of\", each, \"is\", each**(1/2))\n",
    "print (\"\\nfor loop complete!\")\n",
    "\n",
    "# Note 1: Only the indented command is run in each iteration of the for loop\n",
    "#       The indentation indicates the block of code contained within the loop\n",
    "#       However, you could certainly add additional commands within this block\n",
    "# Note 2: the third number provided to the range() function is the step size between integers\n"
   ]
  },
  {
   "cell_type": "code",
   "execution_count": null,
   "metadata": {},
   "outputs": [],
   "source": [
    "# The range function used in the last example, actually returns a data type that we haven't talked about yet\n",
    "# It is called a \"range\", but it behaves almost identically to a list of integers\n",
    "\n",
    "# It's also possible to iterate through items in a dictionary\n",
    "\n",
    "# Here's the codon dictionary we used last week\n",
    "codonTable={'TTT': 'F', 'TTC': 'F', 'TTA': 'L', 'TTG': 'L', 'TCT': 'S', 'TCC': 'S', 'TCA': 'S', 'TCG': 'S', 'TAT': 'Y', 'TAC': 'Y', 'TGT': 'C', 'TGC': 'C', 'TGG': 'W', 'CTT': 'L', 'CTC': 'L', 'CTA': 'L', 'CTG': 'L', 'CCT': 'P', 'CCC': 'P', 'CCA': 'P', 'CCG': 'P', 'CAT': 'H', 'CAC': 'H', 'CAA': 'Q', 'CAG': 'Q', 'CGT': 'R', 'CGC': 'R', 'CGA': 'R', 'CGG': 'R', 'ATT': 'I', 'ATC': 'I', 'ATA': 'I', 'ATG': 'M', 'ACT': 'T', 'ACC': 'T', 'ACA': 'T', 'ACG': 'T', 'AAT': 'N', 'AAC': 'N', 'AAA': 'K', 'AAG': 'K', 'AGT': 'S', 'AGC': 'S', 'AGA': 'R', 'AGG': 'R', 'GTT': 'V', 'GTC': 'V', 'GTA': 'V', 'GTG': 'V', 'GCT': 'A', 'GCC': 'A', 'GCA': 'A', 'GCG': 'A', 'GAT': 'D', 'GAC': 'D', 'GAA': 'E', 'GAG': 'E', 'GGT': 'G', 'GGC': 'G', 'GGA': 'G', 'GGG': 'G'}\n",
    "\n",
    "# Let's step through all of the keys, and for those containing at least one \"T\", let's print the RNA version\n",
    "for each in codonTable:\n",
    "    if each.count('T') > 0:\n",
    "        print(each.replace('T', 'U'))\n"
   ]
  },
  {
   "cell_type": "code",
   "execution_count": null,
   "metadata": {},
   "outputs": [],
   "source": [
    "# Because all keys of a dictionary are unique, we could easily access the associated values in the last for loop example\n",
    "# simply by using this syntax: codonTable[each]\n",
    "\n",
    "# However, there is also a built-in method for dictionaries that allows us to iterate through key:value pairs\n",
    "    # With each key and value assigned to separate variables\n",
    "# The function is called items() and in the following example, I'm assigning keys to the k variable and values to the v variable\n",
    "\n",
    "for k, v in codonTable.items():\n",
    "    if k.count('T') > 0:\n",
    "        print(k.replace('T', 'U'), \":\", v)\n"
   ]
  },
  {
   "cell_type": "markdown",
   "metadata": {},
   "source": [
    "# Assignment 1.2\n",
    "\n",
    "## Within the next cell, write a for loop that iterates through the key:value pairs in codonTable and creates a new dictionary called codonTableRNA, which is identical to codonTable, but with all \"T\" charcaters in the codons replaced with \"U\".\n",
    "## To demontrate that your new dictionary is properly formed, please print the following:\n",
    "### 1. The length of codonTableRNA\n",
    "### 2. The values associated with the following keys: 'CGU', 'AUG', 'CGC' \n",
    "\n",
    "## **Note: A dictionary needs to exist before values can be added to it"
   ]
  },
  {
   "cell_type": "code",
   "execution_count": null,
   "metadata": {},
   "outputs": [],
   "source": [
    "\n",
    "\n",
    "\n"
   ]
  },
  {
   "cell_type": "markdown",
   "metadata": {},
   "source": [
    "# Assignment 1.3\n",
    "\n",
    "## The next cell contains a list of DNA codons. Write a for loop that iterates through this list and uses codonTable to generate a new list containing the encoded amino acids.\n",
    "\n",
    "## Then, convert the list of amino acids into a string and print the string. \n",
    "\n",
    "## **Note: A list needs to exist before values can be added to it"
   ]
  },
  {
   "cell_type": "code",
   "execution_count": null,
   "metadata": {},
   "outputs": [],
   "source": [
    "codons = [\"CGT\", \"ATC\", \"GGT\", \"CAC\", \"ACT\", \"GCA\", \"AAT\", \"TCT\", \"TGG\", \"GAG\", \"CGA\"]\n",
    "\n",
    "\n"
   ]
  },
  {
   "cell_type": "markdown",
   "metadata": {
    "collapsed": true
   },
   "source": [
    "# While Loops"
   ]
  },
  {
   "cell_type": "code",
   "execution_count": null,
   "metadata": {},
   "outputs": [],
   "source": [
    "# The other major type of loop is a while loop\n",
    "# Instead of cycling through a pre-defined collection of items,\n",
    "# While loops are defined along with a logical expression and the code contained within the while loop\n",
    "# Will continue to be run until the expression evaluates to False\n",
    "\n",
    "# Remember, you will need to define the variables referenced in the while loop's logical expression\n",
    "    # Before initiating the while loop\n",
    "counter=0   # We will add one to this counter each time we enter the while loop\n",
    "\n",
    "#Here is an example of a simple while loop that will be run 10 times\n",
    "while counter<10:\n",
    "    counter+=1\n",
    "    print(counter)"
   ]
  },
  {
   "cell_type": "code",
   "execution_count": null,
   "metadata": {},
   "outputs": [],
   "source": [
    "# However, with the same while statement, this loop could also run only five times, \n",
    "    # If we change how we modify the counter variable inside the loop\n",
    "\n",
    "counter=0   # We need to reinitiate this variable at 0 before starting the loop\n",
    "\n",
    "while counter<10:\n",
    "    counter+=2\n",
    "    print(counter)\n",
    "    \n",
    "# Therefore, how long a while loop will run is dependent both on the logical expression used \n",
    "    # to ititiate the while loop\n",
    "    # And what the commands inside the while loop are doing\n",
    "# Whereas, the number of iterations in a for loop are only dependent on the for statement used to initialize the loop"
   ]
  },
  {
   "cell_type": "code",
   "execution_count": null,
   "metadata": {},
   "outputs": [],
   "source": [
    "# We can also nest loops within loops\n",
    "# In this example, I use two nested while loops\n",
    "# The inner loop randomly selected amino acids from the AAs list until a stop codon (\"*\") is encountered\n",
    "# The outer while loop results in 10 separate iterations of the inner loop\n",
    "# After each iteration, the length of the generated protein sequence is printed\n",
    "\n",
    "# List containing single letter amino acids codes\n",
    "AAs=[\"A\", \"R\", \"N\", \"D\", \"C\", \"E\", \"Q\", \"G\", \"H\", \"I\", \"L\", \"K\", \"M\", \"F\", \"P\", \"S\", \"T\", \"W\", \"Y\", \"V\", \"*\"]\n",
    "\n",
    "import random   # Import a standard module that will be used for making random choices from AAs\n",
    "\n",
    "counter=0                                # Initiate the counter\n",
    "while counter<10:                        # Outer while loop will continue until the counter is >= 10\n",
    "    counter+=1                           # Increment the counter by one\n",
    "    \n",
    "    prot=[\"M\"]                           # Initialize a list containing a single Methionine, as the start to our protein\n",
    "    \n",
    "    while prot[-1] != \"*\":               # Inner while loop will continue until a stop codon is encountered\n",
    "        prot.append(random.choice(AAs))  # Append a new, randomly selected amino acid from the AAs list\n",
    "    \n",
    "    print(len(prot), \"\".join(prot))      # Print the length and sequence of the randomly generated protein\n",
    "\n"
   ]
  },
  {
   "cell_type": "markdown",
   "metadata": {
    "collapsed": true
   },
   "source": [
    "# Continue and Break"
   ]
  },
  {
   "cell_type": "code",
   "execution_count": null,
   "metadata": {},
   "outputs": [],
   "source": [
    "# 'Continue' and 'Break' are flow control statements that can be used to control the behavior of loops\n",
    "# You can often accomplish the same result with other approaches, but they're additional tools in your toolbox\n",
    "    # And sometimes, these will be the simplest approach\n",
    "\n",
    "# The 'Continue' statement tells the computer to go ahead and move to the next iteration of the loop\n",
    "\n",
    "# Here is an example\n",
    "for letter in \"CO L UM N\":    # Yes! You can also iterate through charcaters in a sting\n",
    "    if letter == \" \":                  # If the character is a space\n",
    "        continue                       # End this iteration of the for loop\n",
    "    print(letter.lower())              # Print the lowercase version of the letter"
   ]
  },
  {
   "cell_type": "code",
   "execution_count": null,
   "metadata": {},
   "outputs": [],
   "source": [
    "# 'Break', on the other hand, terminates the loop entirely, not just the current iteration\n",
    "\n",
    "# Here's an example in which a for loop is initiated to step through all integers from 1 to 1000\n",
    "    # These integers are then appended to the list saved to the variable l\n",
    "# The loop then checks whether the sum of all these integers is greater than or equal to 1000\n",
    "    # If it is, then the for loop is terminated\n",
    "\n",
    "l=[]\n",
    "for i in range(1, 1001):\n",
    "    l.append(i)\n",
    "    if sum(l) >=1000:\n",
    "        break\n",
    "\n",
    "print(len(l), sum(l))   #It only took 45 iterations of the 'for' loop to reach a sum >1000"
   ]
  },
  {
   "cell_type": "markdown",
   "metadata": {},
   "source": [
    "# Assignment 1.4\n",
    "\n",
    "## Rewrite the last example as a while loop (no break required!), instead of a for loop with a break statement"
   ]
  },
  {
   "cell_type": "code",
   "execution_count": null,
   "metadata": {},
   "outputs": [],
   "source": [
    "\n",
    "\n",
    "\n"
   ]
  },
  {
   "cell_type": "markdown",
   "metadata": {},
   "source": [
    "# Assignment 1.5\n",
    "## Using tools that you've learned today, tweak the example while loop that randomly generates protein sequences so that it generates and prints exactly 10 protein sequences, all of which contain >= 50 amino acids. \n",
    "\n",
    "### Note: Do NOT remove the stop codon from AAs! Find another workaround. \n"
   ]
  },
  {
   "cell_type": "code",
   "execution_count": null,
   "metadata": {},
   "outputs": [],
   "source": [
    "\n"
   ]
  },
  {
   "cell_type": "markdown",
   "metadata": {},
   "source": [
    "# Assignment 1.6\n",
    "## In the next cell, there is a variable called line that contains a string representing a single line from a tab-delimited file\n",
    "### 1. Generate a list by splitting on tabs\n",
    "### 2. Write a for loop that steps through each item in the list and counts the number of values greater than or equal to 15\n",
    "### 3. Print the final count\n",
    "## Note: the first \"column\" in the line is not an integer and therefore, will need to be skipped. \n"
   ]
  },
  {
   "cell_type": "code",
   "execution_count": null,
   "metadata": {},
   "outputs": [],
   "source": [
    "line = \"PV1_147986\t11\t13\t22\t13\t11\t11\t0\t4\t4\t14\t9\t15\t4\t5\t4\t5\t14\t8\t19\t17\t12\t13\t0\t5\t5\t7\t0\t2\t5\t12\t2\t10\t2\t1\t0\t5\t0\t4\t0\t0\t7\t3\t2\t0\t4\t5\t0\t0\t7\t5\t8\t8\t1\t7\t4\t1\t0\t6\t0\t6\t1\t4\t1\t2\t7\t2\t4\t5\t1\t9\t10\t6\t6\t11\t4\t3\t3\t5\t1\t1\t6\t8\t12\t1\t2\t6\t7\t5\t6\t4\t3\t6\t3\t5\t0\t4\t10\t5\t11\t4\t15\t3\t0\t3\t11\t6\t11\t8\t7\t9\t4\t7\t4\t12\t5\t4\t0\"\n",
    "\n"
   ]
  },
  {
   "cell_type": "markdown",
   "metadata": {
    "collapsed": true
   },
   "source": [
    "# Optional: Extra Credit\n",
    "\n",
    "##  Below, the variable seq1 contains one of the Zika virus genome sequences from the exercises last week. Use a for loop to move through the sequence using a sliding window\n",
    "###             - The length of each window should be 100 nucleotides\n",
    "###             - And you should move over 50 nucleotides between each window\n",
    "##  For each window, first test to see if the window contains >50% A and T. If so, append the sequence corresponding to that window to a designated list. \n",
    "## Then test to see if the window contains >50% G and C. If so, append the sequence corresponding to that window to a different list. \n",
    "## Finally, test to see if the window contains >50% N. If so, append the sequence corresponding to that window to a third list. \n",
    "## At the end, print the length of each list (i.e., the number of windows that met each criterion).\n"
   ]
  },
  {
   "cell_type": "code",
   "execution_count": null,
   "metadata": {},
   "outputs": [],
   "source": [
    "\n",
    "seq1 = 'NNNNNNNNNNNNNTGTGAATCAGACTGCGACAGTTCGAGTTTGAAGCGAAAGCTAGCAACAGTATCAACAGGTTTTATTTTGGATTTGGAAACGAGAGTTTCTGGTCATGAAAAACCCAAAAAAGAAATCCGGAGGATTCCGGATTGTCAATATGCTAAAACGCGGAGTAGCCCGTGTGAGCCCCTTTGGGGGCTTGAAGAGGCTGCCAGCCGGACTTCTGCTGGGTCATGGGCCCATCAGGATGGTCTTGGCGATTCTAGCCTTTTTGAGATTCACGGCAATCAAGCCATCACTGGGTCTCATCAATAGATGGGGTTCAGTGGGGAAAAAAGAGGCTATGGAAATAATAAAGAAGTTCAAGAAAGATCTGGCTGCCATGCTGAGAATAATCAATGCTAGGAAGGAGAAGAAGAGACGAGGCGCAGATACTAGTGTCGGAATTGTTGGCCTCCTGCTGACCACAGCTATGGCAGCGGAGGTCACTAGACGTGGGAGTGCATACTATATGTACTTGGACAGAAACGATGCTGGGGAGGCCATATCTTTTCCAACCACATTGGGGATGAATAAGTGTTATATACAGATCATGGATCTTGGACACATGTGTGATGCCACCATGAGCTATGAATGCCCTATGCTGGATGAGGGGGTGGAACCAGATGACGTCGATTGTTGGTGCAACACGACGTCAACTTGGGTTGTGTACGGAACCTGCCATCACAAAAAAGGTGAAGCACGGAGATCTAGAAGAGCTGTGACGCTCCCCTCCCATTCCACTAGGAAGCTGCAAACGCGGTCGCAAACCTGGTTGGAATCAAGAGAATACACAAAGCACTTGATTAGAGTCGAAAATTGGATATTCAGGAACCCTGGCTTCGCGTTAGCAGCAGCTGCCATCGCTTGGCTTTTGGGAAGCTCAACGAGCCAAAAAGTCATATACTTGGTCATGATACTGCTGATTGCCCCGGCATACAGCATCAGGTGCATAGGAGTCAGCAATAGGGACTTTGTGGAAGGCATGTCAGGTGGGACTTGGGTTGATGTTGTCTTGGAACATGGAGGTTGTGTCACCGTAATGGCACAGGACAAACCGACTGTCGACATAGAGCTGGTTACAACAACAGTCAGCAACATGGCGGAGGTAAGATCCTACTGCTATGAGGCATCAATATCAGACATGGCTTCGGACAGCCGCTGCCCAACACAAGGTGAAGCCTACCTTGACAAGCAATCAGACACTCAATATGTCTGCAAAAGAACGTTAGTGGACAGAGGCTGGGGAAATGGATGTGGACTTTTTGGCAAAGGGAGCCTGGTGACATGCGCTAAGTTTGCATGCTCCAAGAAAATGACCGGGAAGAGCATCCAGCCAGAGAATCTGGAGTACCGGATAATGCTGTCAGTTCATGGCTCCCAGCACAGTGGGATGATCGTTAATGACACAGGACATGAAACTGATGAGAATAGAGCGAAGGTTGAGATAACGCCCAATTCACCAAGAGCCGAAGCCACCCTGGGGGGTTTTGGAAGCCTAGGACTTGATTGTGAACCGAGGACAGGCCTTGACTTTTCAGATTTGTATTACTTGACTATGAATAACAAGCACTGGTTGGTCCACAAGGAGTGGTTCCACGACATTCCATTACCTTGGCACGCTGGGGCAGACACCGGAACTCCACACTGGAACAACAAAGAAGCACTGGTAGAGTTCAAGGACGCACATGCCAAAAGGCAAACTGTCGTGGTTCTAGGGAGTCAAGAAGGAGCAGTTCACACGGCCCTTGCTGGAGCTCTGGAGGCTGAGATGGATGGTGCAAAGGGAAGGCTGTCCTCTGGCCACTTGAAATGTCGCCTGAAAATGGATAAACTTAGATTGAAGGGCGTGTCATACTCCTTGTGTACCGCAGCGTTCACATTCACCAAGATCCCGGCTGAAACACTGCACGGGACAGTCACAGTGGAGGTACAGTACGCAGGGACAGATGGACCTTGCAAGGTTCCAGCTCAGATGGCGGTGGACATGCAAACTCTGACCCCAGTTGGGAGGTTGATAACCGCTAACCCCGTAATCACTGAAAGCACTGAGAACTCTAAGATGATGCTGGAACTTGATCCACCATTTGGGGACTCTTACATTGTCATAGGAGTCGGGGAGAAGAAGATCACCCACCACTGGCACAGGAGTGGTAGCACCATTGGAAAAGCATTTGAAGCCACTGTGAGAGGTGCCAAGAGAATGGCAGTCTTGGGAGACACAGCCTGGGACTTTGGATCAGTTGGAGGCGCTCTCAACTCATTGGGCAAGGGCATCCATCAAATTTTTGGAGCAGCTTTCAAATCATTGTTTGGAGGAATGTCCTGGTTCTCACAAATCCTCATTGGAACGTTGCTGATGTGGTTGGGTCTGAACACAAAGAATGGATCTATTTCCCTTATGTGCTTGGCCTTAGGGGGAGTGTTGATCTTCTTATCCACAGCCGTCTCTGCTGATGTGGGGTGCTCGGTGGACTTCTCAAAGAAGGAGACGAGATGCGGTACAGGGGTGTTCGTCTATAACGACGTTGAAGCCTGGAGGGACAGGTACAAGTACCATCCTGACTCCCCCCGTAGATTGGCAGCAGCAGTCAAGCAAGCCTGGGAAGATGGTATCTGCGGGATCTCCTCTGTTTCAAGAATGGAAAACATCATGTGGAGATCAGTAGAAGGGGAGCTCAATGCAATCCTGGAAGAGAATGGAGTTCAACTGACGGTCGTTGTGGGATCTGTAAAAAACCCCATGTGGAGAGGTCCACAGAGATTGCCCGTGCCTGTGAACGAGCTGCCCCACGGCTGGAAGGCTTGGGGGAAATCGTACTTCGTCAGAGCAGCAAAGACAAATAACAGCTTTGTCGTGGATGGTGACACACTGAAGGAATGCCCACTCAAACATAGAGCATGGAACAGCTTTCTTGTGGAGGATCATGGGTTCGGGGTATTTCACACTAGTGTCTGGCTCAAGGTTAGAGAAGATTATTCATTAGAGTGTGATCCAGCCGTTATTGGAACAGCTGTTAAGGGAAAGGAGGCTGTACACAGTGATCTAGGCTACTGGATTGAGAGTGAGAAGAATGACACATGGAGGCTGAAGAGGGCCCATCTGATCGAGATGAAAACATGTGAATGGCCAAAGTCCCACACATTGTGGACAGATGGAATAGAAGAGAGTGATCTGATCATACCCAAGTCTTTAGCTGGGCCACTCAGCCATCACAATACCAGAGAGGGCTACAGGACCCAAATGAAAGGGCCATGGCACAGTGAAGAGCTTGAAATTCGGTTTGAGGAATGCCCAGGCACTAAGGTCCACGTGGAGGAAACATGTGGAACAAGAGGACCATCTCTGAGATCAACCACTGCAAGCGGAAGGGTGATCGAGGAATGGTGCTGCAGAGAGTGCACAATGCCCCCACTGTCGTTCCGGGCTAAAGATGGCTGTTGGTATGGAATGGAGATAAGGCCCAGGAAAGAACCAGAAAGCAACTTAGTAAGGTCAGTGGTGACTGCAGGATCAACTGATCACATGGATCACTTCTCCCTTGGAGTGCTTGTGATTCTGCTCATGGTGCAGGAAGGGCTGAAGAAGAGAATGACCACAAAGATCATCATAAGCACATCAATGGCAGTGCTGGTAGCTATGATCCTGGGAGGATTTTCAATGAGTGACCTGGCTAGGCTTGCAATTTTGATGGGTGCCACCTTCGCGGAAATGAACACTGGAGGAGATGTAGCTCATCTGGCGCTGATAGCGGCATTCAAAGTCAGACCAGCGTTGCTGGTATCTTTCATCTTCAGAGCTAATTGGACACCCCGTGAAAGCATGCTGCTGGCCTTGGCCTCGTGTCTTTTGCAAACTGCGATCTCCGCCTTGGAAGGCGACCTGATGGTTCTCATCAATGGTTTTGCTTTGGCCTGGTTGGCAATACGAGCGATGGTTGTTCCACGCACTGATAACATCACCGTGGCAATCCTGGCTGCTCTGACACCACTGGCCCGGGGCACACTGCTTGTGGCGTGGAGAGCAGGCCTTGCTACTTGCGGGGGGTTTATGCTCCTCTCTCTGAAGGGAAAAGGCAGTGTGAAGAAGAACTTACCATTTGTCATGGCCCTGGGACTAACCGCTGTGAGGCTGGTTGACCCCATCAACGTGGTGGGACTGCTGTTGCTCACAAGGAGTGGGAAGCGGAGCTGGCCCCCTAGCGAAGTACTCACAGCTGTTGGCCTGATATGCGCATTGGCTGGAGGGTTCGCCAAGGCAGATATAGAGATGGCTGGGCCCATGGCCGCGGTCGGTCTGCTAATTGTCAGTTACGTGGTCTCAGGAAAGAGTGTGGACATGTACATTGAAAGAGTAGGTGACATCACATGGGAAAAAGATGCGGAAGTCACTGGAAACAGTCCCCGGCTCGATGTGGCGCTAGATGAGAGTGGTGATTTCTCCCTGGTGGAGGATGACGGTCCCCCCATGAGAGAGATCATACTCAAGGTAGTCCTGATGACCATCTGTGGCATGAACCCAATAGCCATACCCTTTGCAGCTGGAGCGTGGTACGTATACGTGAAGACTGGAAAAAGGAGTGGTGCTCTATGGGATGTGCCTGCTCCCAAGGAAGTAAAAAAGGGGGAGACCACAGATGGAGTGTACAGAGTAATGACTCGTAGACTGCTAGGTTCAACACAAGTTGGAGTGGGAGTTATGCAAGAGGGGGTCTTTCACACTATGTGGCACGTCACAAAAGGATCCGCGCTGAGAAGCGGTGAAGGGAGACTTGATCCATACTGGGGAGATGTCAAGCAGGATCTGGTGTCATACTGTGGTCCATGGAAGCTAGATGCCGCCTGGGACGGGCACAGCGAGGTGCAGCTCTTGGCCGTGCCCCCCGGAGAGAGAGCGAGGAACATCCAGACTCTGCCCGGAATATTTAAGACAAAGGATGGGGACATTGGAGCGGTTGCGCTGGATTACCCAGCAGGAACTTCAGGATCTCCAATCCTAGACAAGTGTGGGAGAGTGATAGGACTTTATGGCAATGGGGTCGTGATCAAAAATGGGAGTTATGTTAGTGCCATCACCCAAGGGAGGAGGGAGGAAGAGACTCCTGTTGAGTGCTTCGAGCCTTCGATGCTGAAGAAGAAGCAGCTAACTGTCTTAGACTTGCATCCTGGAGCTGGGAAAACCAGGAGAGTTCTTCCTGAAATAGTCCGTGAAGCCATAAAAACAAGACTCCGTACTGTGATCTTAGCTCCAACCAGGGTTGTCGCTGCTGAAATGGAGGAAGCCCTTAGAGGGCTTCCAGTGCGTTATATGACAACAGCAGTCAATGTCACCCACTCTGGAACAGAAATCGTCGACTTAATGTGCCATGCCACCTTCACTTCACGTCTACTACAGCCAATCAGAGTCCCCAACTATAATCTGTATATTATGGATGAGGCCCACTTCACAGATCCCTCAAGTATAGCAGCAAGAGGATACATTTCAACAAGGGTTGAGATGGGCGAGGCGGCTGCCATCTTCATGACCGCCACGCCACCAGGAACCCGTGACGCATTTCCGGACTCCAACTCACCAATTATGGACACCGAAGTGGAAGTCCCAGAGAGAGCCTGGAGCTCAGGCTTTGATTGGGTGACGGATCATTCTGGAAAAACAATTTGGTTTGTTCCAAGCGTGAGGAACGGCAATGAGATCGCAGCTTGTCTGACAAAGGCTGGAAAACGGGTCATACAGCTCAGCAGAAAGACTTTTGAGACAGAGTTCCAGAAAACAAAACATCAAGAGTGGGACTTTGTCGTGACAACTGACATTTCAGAGATGGGCGCCAACTTTAAAGCTGACCGTGTCATAGATTCCAGGAGATGCCTAAAGCCGGTCATACTTGATGGCGAGAGAGTCATTCTGGCTGGACCCATGCCTGTCACACATGCCAGCGCTGCCCAGAGGAGGGGGCGCATAGGCAGGAATCCCAACAAACCTGGAGATGAGTATCTGTATGGAGGTGGGTGCGCAGAGACTGACGAAGACCATGCACACTGGCTTGAAGCAAGAATGCTCCTTGACAATATTTACCTCCAAGATGGCCTCATAGCCTCGCTCTATCGACCTGAGGCCGACAAAGTAGCAGCCATTGAGGGAGAGTTCAAGCTTAGGACGGAGCAAAGGAAGACCTTTGTGGAACTCATGAAAAGAGGAGATCTTCCTGTTTGGCTGGCCTATCAGGTTGCATCTGCCGGAATAACCTACACAGATAGAAGATGGTGCTTTGATGGCACAACCAACAACACCATAATGGAAGACAGTGTGCCGGCAGAGGTGTGGACCAGACACGGAGAGAAAAGAGTGCTCAAACCGAGGTGGATGGACGCCAGAGTTTGTTCAGATCATGCGGCCCTGAAGTCATTCAAGGAGTTTGCCGCTGGGAAAAGAGGAGCGGCTTTTGGAGTGATGGAAGCCCTGGGAACACTGCCAGGACACATGACAGAGAGATTCCAGGAAGCCATTGACAACCTCGCTGTGCTCATGCGGGCAGAGACTGGAAGCAGGCCTTACAAAGCCGCGGCGGCCCAATTGCCGGAGACCCTAGAGACCATTATGCTTTTGGGGTTGCTGGGAACAGTCTCGCTGGGAATCTTTTTCGTCTTGATGAGGAACAAGGGCATAGGGAAGATGGGCTTTGGAATGGTGACTCTTGGGGCCAGCGCATGGCTCATGTGGCTCTCGGAAATTGAGCCAGCCAGAATTGCATGTGTCCTCATTGTTGTGTTCCTATTGCTGGTGGTGCTCATACCTGAGCCAGAAAAGCAAAGATCTCCCCAGGACAACCAAATGGCAATCATCATCATGGTAGCAGTAGGTCTTCTGGGCTTGATTACCGCCAATGAACTCGGATGGTTGGAGAGAACAAAGAGTGACCTAAGCCATCTAATGGGAAGGAGAGAGGAGGGAGCAACCATAGGATTCTCAATGGACATTGACCTGCGGCCAGCCTCAGCTTGGGCCATCTATGCCGCCTTGACAACTTTCATTACCCCAGCCGTCCAACATGCAGTGACCACTTCATACAACAACTACTCCTTAATGGCGATGGCCACGCAAGCTGGAGTGTTGTTTGGTATGGGCAAAGGGATGCCATTCTACGCATGGGACTTTGGAGTCCCGCTGCTAATGATAGGTTGCTACTCACAATTAACACCCCTGACCCTAATAGTGGCCATCATTTTGCTCGTGGCGCACTACATGTACTTGATCCCAGGGCTGCAGGCAGCAGCTGCGCGTGCTGCCCAGAAGAGAACGGCAGCTGGCATCATGAAGAACCCTGTTGTGGATGGAATAGTGGTGACTGACATTGACACAATGACAATTGACCCCCAAGTGGAGAAAAAGATGGGACAGGTGCTACTCATAGCAGTAGCCGTCTCCAGCGCCATACTGTCGCGGACCGCCTGGGGGTGGGGGGAGGCTGGGGCCCTGATCACAGCCGCAACTTCCACTTTGTGGGAAGGCTCTCCGAACAAGTACTGGAACTCCTCTACAGCCACTTCACTGTGTAACATTTTTAGGGGAAGTTACTTGGCTGGAGCTTCTCTAATCTACACAGTAACAAGAAACGCTGGCTTGGTCAAGAGACGTGGGGGTGGAACAGGAGAGACCCTGGGAGAGAAATGGAAGGCCCGCTTGAACCAGATGTCGGCCCTGGAGTTCTACTCCTACAAAAAGTCAGGCATCACCGAGGTGTGCAGAGAAGAGGCCCGCCGCGCCCTCAAGGACGGTGTGGCAACGGGAGGCCATGCTGTGTCCCGAGGAAGTGCAAAGCTGAGATGGTTGGTGGAGCGGGGATACCTGCAGCCCTATGGAAAGGTCATTGATCTTGGATGTGGCAGAGGGGGCTGGAGTTACTACGCCGCCACCATCCGCAAAGTTCAAGAAGTGAAAGGATACACAAAAGGAGGCCCTGGTCATGAAGAACCCGTGTTGGTGCAAAGCTATGGGTGGAACATAGTCCGTCTCAAGAGTGGGGTGGACGTCTTTCATATGGCGGCTGAGCCGTGTGACACGTTGCTGTGTGACATAGGTGAGTCATCATCTAGTCCTGAAGTGGAAGAAGCACGGACGCTCAGAGTCCTCTCCATGGTGGGGGATTGGCTTGGAAAAAGACCAGGAGCCTTTTGTATAAAAGTGTTGTGCCCATACACCAGCACTATGATGGAAACCCTGGAGCGACTGCAGCGTAGGTATGGGGGAGGACTGGTCAGAGTGCCACTCTCCCGCAACTCTACACATGAGATGTACTGGGTCTCTGGAGCGAAAAGCAACACCATAAAAAGTGTGTCCACCACGAGCCAGCTCCTCTTGGGGCGCATGGACGGGCCTAGGAGGCCAGTGAAATATGAGGAGGATGTGAATCTCGGCTCTGGCACGCGGGCTGTGGTAAGCTGCGCTGAAGCTCCCAACATGAAGATCATTGGTAACCGCATTGAAAGGATCCGCAGTGAGCATGCGGAAACGTGGTTCTTTGACGAGAACCACCCATATAGGACATGGGCTTACCATGGAAGCTATGAGGCCCCCACACAAGGGTCAGCGTCCTCTCTAATAAACGGGGTTGTCAGGCTCCTGTCAAAACCCTGGGATGTGGTGACTGGAGTCACAGGAATAGCCATGACCGACACCACACCGTATGGTCAGCAAAGAGTTTTCAAGGAAAAAGTGGACACTAGGGTGCCAGACCCCCAAGAGGGCACTCGTCAGGTTATGAGCATGGTCTCTTCCTGGTTGTGGAAAGAGCTAGGCAAACACAAACGGCCACGAGTCTGTACCAAAGAAGAGTTCATCAACAAGGTTCGTAGCAATGCAGCATTAGGGGCAATATTTGAAGAGGAAAAAGAGTGGAAGACTGCAGTGGAAGCTGTGAACGATCCAAGGTTCTGGGCTCTAGTGGACAAGGAAAGAGAGCACCACCTGAGAGGAGAGTGCCAGAGTTGTGTGTACAACATGATGGGAAAAAGAGAAAAGAAACAAGGGGAATTTGGAAAGGCCAAGGGCAGCCGCGCCATCTGGTATATGTGGCTAGGGGCTAGATTTCTAGAGTTCGAAGCCCTTGGATTCTTGAACGAGGATCACTGGATGGGGAGAGAGAACTCAGGAGGTGGTGTTGAAGGGCTGGGACTACAAAGACTCGGATATGTCCTAGAAGAGATGAGTCGCATACCAGGAGGAAGGATGTATGCAGATGACACTGCTGGCTGGGACACCCGCATCAGCAGGTTTGATCTGGAGAATGAAGCTCTAATCACCAACCAAATGGAGAAAGGGCACAGGGCCTTGGCATTGGCCATAATCAAGTACACATACCAAAACAAAGTGGTAAAGGTCCTTAGACCAGCTGAAAAAGGGAAAACAGTCATGGACATTATTTCGAGACAAGACCAAAGGGGGAGCGGACAAGTTGTCACTTACGCTCTTAACACATTTACCAACCTAGTGGTGCAACTCATTCGGAATATGGAGGCTGAGGAAGTTCTAGAGATGCAAGACTTGTGGCTGCTGCGGAGGTCAGAGAAAGTGACCAACTGGTTGCAGAGCAACGGATGGGATAGGCTCAAACGAATGGCAGTCAGTGGAGATGATTGCGTTGTGAAGCCAATTGATGATAGGTTTGCACATGCCCTCAGGTTCTTGAATGATATGGGAAAAGTTAGGAAGGACACACAAGAGTGGAAACCCTCAACTGGATGGGACAACTGGGAAGAAGTTCCGTTTTGCTCCCACCACTTCAACAAGCTCCATCTCAAGGACGGGAGGTCCATTGTGGTTCCCTGCCGCCACCAAGATGAACTGATTGGCCGGGCCCGCGTCTCTCCAGGGGCGGGATGGAGCATCCGGGAGACTGCTTGCCTAGCAAAATCATATGCGCAAATGTGGCAGCTCCTTTATTTCCACAGAAGGGACCTCCGACTGATGGCCAATGCCATTTGTTCATCTGTGCCAGTTGACTGGGTTCCAACTGGGAGAACTACCTGGTCAATCCATGGAAAGGGAGAATGGATGACCACTGAAGACATGCTTGTGGTGTGGAACAGAGTGTGGATTGAGGAGAACGACCACATGGAAGACAAGACCCCAGTTACGAAATGGACAGACATTCCCTATTTGGGAAAAAGGGAAGACTTGTGGTGTGGATCTCTCATAGGGCACAGACCGCGCACCACCTGGGCTGAGAACATTAAAAACACAGTCAACATGGTGCGCAGGATCATAGGTGATGAAGAAAAGTACATGGACTACCTATCCACCCAAGTTCGCTACTTGGGTGAAGAAGGGTCTACACCTGGAGTGCTGTAAGCACCAATCTTAATGTTGTCAGGCCTGCTAGTCAGCCACAGCTTGGGGAAAGCTGTGCAGCCTGTGACCCCCCCAGGAGAAGCTGGGAAACCAAGCCTATAGTCAGGCCGGGAACGCCATGGCACGGAAGAAGCCATGCTGCCTGTGAGCCCCTCAGAGGACACTGAGTCAAAAAACCCCACGCGCTTGGAGGCGCAGGATGGGAAAAGAAGGTGGCGACCTTCCCCACCCTTCAATCTGGGGCCTGAACTGGAGATCAGCTGTGGATCTCCAGAAGAGGGACTAGTGGTTAGAGGAGACCCCCCGGAAAACGCAAAACAGCATATTGACGCTGGGAAAGACCAGAGACTCCATGAGTTTCCACCACGCTGGCCGCCAGGCACAGANNNNNNNNNNNNNNNNNNNNNNNNNNNNNNNNNNNNNNNNNNN'\n",
    "\n",
    "\n",
    "\n"
   ]
  }
 ],
 "metadata": {
  "kernelspec": {
   "display_name": "Python 3",
   "language": "python",
   "name": "python3"
  },
  "language_info": {
   "codemirror_mode": {
    "name": "ipython",
    "version": 3
   },
   "file_extension": ".py",
   "mimetype": "text/x-python",
   "name": "python",
   "nbconvert_exporter": "python",
   "pygments_lexer": "ipython3",
   "version": "3.8.5"
  }
 },
 "nbformat": 4,
 "nbformat_minor": 2
}
