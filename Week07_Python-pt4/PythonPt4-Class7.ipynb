{
 "cells": [
  {
   "cell_type": "markdown",
   "metadata": {
    "collapsed": true
   },
   "source": [
    "# This notebook will introduce you to custom Python functions and sets.\n"
   ]
  },
  {
   "cell_type": "markdown",
   "metadata": {},
   "source": [
    "# Functions"
   ]
  },
  {
   "cell_type": "code",
   "execution_count": null,
   "metadata": {},
   "outputs": [],
   "source": [
    "\n",
    "# In Python, you're not limited by the functions available in existing modules\n",
    "# You can also define your own functions\n",
    "# Functions make it easy to reuse the same code in multiple places within your program\n",
    "# Functions also help to enhance the readability of your scripts\n",
    "\n",
    "# Here I define a function that will reverse complement a DNA sequence\n",
    "# This functions takes a single argument, which is assigned to the variable 'dna'\n",
    "# This argument should be a string of nucleotides (upper- or lower-case is fine)\n",
    "def revcomp(dna):\n",
    "    dna = dna.upper()     #First, let's covert all characters to uppercase\n",
    "    rev = dna[::-1]       #Then, let's reverse the DNA sequence and save to a new variable, 'rev'\n",
    "    \n",
    "    # The next three lines generate a dictionary that can be provided to the .translate() string method to perform the complementation\n",
    "    # For the complementation, we are replacing A with T, C with G, T with A and G with C\n",
    "    intab = \"ACTG\"\n",
    "    outtab = \"TGAC\"\n",
    "    trantab = str.maketrans(intab, outtab)\n",
    "    \n",
    "    revc = rev.translate(trantab)    # Here, we complement the reversed DNA sequence and save to the 'revc' variable\n",
    "    \n",
    "    return revc                      # This final revcomp variable is then returned by the function\n"
   ]
  },
  {
   "cell_type": "code",
   "execution_count": null,
   "metadata": {},
   "outputs": [],
   "source": [
    "# And here I'm using the function with two different strings provided as arguments\n",
    "\n",
    "# The result of the function call is being assigned to a variable called 'first_example'\n",
    "first_example = revcomp('aaagtctcgagggttctctagagggggaattaaggccctctcgaggaatatagggggttttaaagata')\n",
    "print (\"First example result:\", first_example)\n",
    "\n",
    "\n",
    "# And the result of this function call is being assigned to a variable called 'second_example'\n",
    "second_example = revcomp('TTTTCTCTNNNgagggggaatGGAAGAGTGctcgaggaatatagggggttTTAATATAgata')\n",
    "print (\"Second example result:\", second_example)\n"
   ]
  },
  {
   "cell_type": "code",
   "execution_count": null,
   "metadata": {},
   "outputs": [],
   "source": [
    "# In the first example, there was only one argument and one value (a string) was returned\n",
    "# In this example, there is still only one argument provided, but two values (integers) are returned\n",
    "# Specifically the function will reverse complement the input DNA sequence and then count the number of Cs and Ts\n",
    "\n",
    "# Again, the input argument should be a string representing a DNA sequence\n",
    "def revcomp_countCTs(dna):\n",
    "    revc = revcomp(dna)    # Here, we're actually using the function we defined above. Functions can be called from within functions!  \n",
    "    \n",
    "    # You also don't need to assign values to a variable name before you return them\n",
    "    # Here, we are performing the counts as part of the return statement\n",
    "    return revc.count('C'), revc.count('T')          #The different values being returned are separated by commas\n"
   ]
  },
  {
   "cell_type": "code",
   "execution_count": null,
   "metadata": {},
   "outputs": [],
   "source": [
    "#Since two values are being returned, you can specify two comma-separated variable names to store these values\n",
    "Cs, Ts = revcomp_countCTs('aaagtctcgagggttctctagagggggaattaaggccctctcgaggaatatagggggttttaaagata')\n",
    "print (f\"First example: #C = {Cs}, #T = {Ts}\")\n",
    "\n",
    "# Or you can capture both returned values with a single variable\n",
    "CTs = revcomp_countCTs('TTTTCTCTNNNgagggggaatGGAAGAGTGctcgaggaatatagggggttTTAATATAgata')\n",
    "\n",
    "# But, in this case, the data type is a tuple, or a non-mutable list\n",
    "print (CTs, type(CTs))\n",
    "\n",
    "# So, the individual values need to be accessed using indexing\n",
    "print (f\"Second example: #C = {CTs[0]}, #T = {CTs[1]}\")\n"
   ]
  },
  {
   "cell_type": "code",
   "execution_count": null,
   "metadata": {},
   "outputs": [],
   "source": [
    "# And, in this function, there are two input arguments, and just one returned value\n",
    "\n",
    "# The first argument should be DNA, RNA or Protein sequence, \n",
    "# The second argument should be an integer that will define the kmer size\n",
    "# Each DNA sequences will be broken into component kmers and all unique kmers will be returned in a set\n",
    "\n",
    "def kmerList(seq,k):\n",
    "    out=[]\n",
    "    for i in range(len(seq)-k+1):\n",
    "        out.append(seq[i:i+k].upper())\n",
    "    return set(out)\n",
    "    "
   ]
  },
  {
   "cell_type": "code",
   "execution_count": null,
   "metadata": {},
   "outputs": [],
   "source": [
    "# First, let's use this function to get all 4mers from the first sequence we've been using in this example\n",
    "s1_4mers = kmerList('aaagtctcgagggttctctagagggggaattaaggccctctcgaggaatatagggggttttaaagata', 4)\n",
    "\n",
    "# Now the same for the second sequence\n",
    "s2_4mers = kmerList('TTTTCTCTNNNgagggggaatGGAAGAGTGctcgaggaatatagggggttTTAATATAgata', 4)\n",
    "\n",
    "# Now, to get a jump start on the next section, let's use set comparison to create a set of the shared 4mers between these two sequences\n",
    "shared = s1_4mers.intersection(s2_4mers)\n",
    "\n",
    "# Now let's sumamrize the results\n",
    "print(f\"Sequence 1 contains {len(s1_4mers)} 4mers.\\nSequence 2 contains {len(s2_4mers)} 4mers.\\n{len(shared)} 4mers are shared by the two sequences\")\n"
   ]
  },
  {
   "cell_type": "markdown",
   "metadata": {},
   "source": [
    "# Assignment 1.1\n",
    "## Building off of last week's assignment, please write a function called 'countItems' that will:\n",
    "### 1. Take a single input argument: a list of non-mutable items\n",
    "### 2. Return a dictionary with a key for each unique item in the list and an integer value indicating the number of times that item occurred in the input list\n",
    "\n",
    "## Then, use this function to generate dictionaries with item counts for 'list1' and 'list2' that are contained in the following cell. \n",
    "## Finally, print the resulting dictionaries"
   ]
  },
  {
   "cell_type": "code",
   "execution_count": null,
   "metadata": {},
   "outputs": [],
   "source": [
    "\n",
    "list1 = [\"a\", \"b\", \"a\", \"a\", \"a\", \"x\", \"x\", \"a\", \"a\", \"a\", \"x\", \"b\", \"b\", \"b\", \"b\", \"b\", \"a\", \"a\", \"z\", \"a\", \"a\", \"a\", \"x\", \"a\", \"b\", \"b\", \"b\", \"b\", \"a\", \"z\", \"y\", \"y\", \"y\", \"z\", \"a\", \"a\", \"a\", \"z\", \"c\", \"z\", \"z\", \"b\", \"b\", \"b\", \"z\", \"z\", \"c\", \"a\", \"a\", \"a\", \"a\", \"x\", \"x\", \"z\", \"y\", \"x\", \"y\", \"a\", \"a\", \"a\", \"y\", \"a\", \"a\", \"z\"]\n",
    "list2 = [1, 1, 1, 1, 11, 1, 1, 1, 1, 1, 1, 1, 1, 1, 111, 11, 1, 1, 1, 1, 1, 1111, 1, 1, 1, 1, 1, 1, 1, 1, 11, 11, 1, 1, 1, 1, 1, 1111, 1, 1, 1, 1, 111, 111, 1, 1, 1, 1, 11, 1, 1, 1, 1, 1, 1, 11, 1, 1, 1, 1, 1, 111, 1, 1, 1, 1, 1, 1, 1111, 1, 1, 1, 1, 1, 1, 111, 1, 1, 1, 1, 1, 11, 1, 1, 1, 1, 1111, 1, 1, 1, 1, 1, 1, 11, 1, 1, 1, 1, 1, 1, 111, 1, 1, 1, 1, 1, 1, 1, 1, 1, 11, 1, 1, 1, 1, 1, 1, 1, 111, 1, 1, 1, 1, 1, 1, 1, 1, 1, 1, 1, 1, 1, 1, 1, 1, 1, 1, 1, 1, 1, 1, 11, 1, 1, 1, 1, 1, 1, 1, 1, 1, 1, 1, 1]\n"
   ]
  },
  {
   "cell_type": "markdown",
   "metadata": {},
   "source": [
    "# Sets"
   ]
  },
  {
   "cell_type": "code",
   "execution_count": null,
   "metadata": {},
   "outputs": [],
   "source": [
    "# Sets are container data types that contain an unordered collection of items\n",
    "# Just like dictionary keys, the items within sets cannot be mutable and there can't be replicate items\n",
    "# But sets themselves are mutable, meaning you can add and remove items\n",
    "# In practice, there are two main uses for sets\n",
    "\n",
    "# The first is identify all unique values in a collection of items \n",
    "# For example, we can use a set to quickly identify all of the unique values in 'list1' and 'list2' from assignment 1.1\n",
    "\n",
    "print(\"Unique values in list1:\", set(list1))\n",
    "print(\"Unique values in list2:\", set(list2))"
   ]
  },
  {
   "cell_type": "code",
   "execution_count": null,
   "metadata": {},
   "outputs": [],
   "source": [
    "# The second use is for comparing collections of values\n",
    "# There are several methods built-in to sets that allow for quick comparison with other sets \n",
    "# And for the generation of new sets, based on that comparison\n",
    "\n",
    "# Let's start by walking through several methods that generate a new set based on a comparison of two existing sets\n",
    "\n",
    "set1 = set(range(10))    #Generating a set with all integers 0-9\n",
    "set2 = set(range(5,15))  #Generating a set with all integers 5-14\n",
    "\n",
    "# The intersection method makes a new set containing only items shared by the two sets\n",
    "print(\"Shared elements (intersection):\", set1.intersection(set2))\n",
    "# Note that in this case, it doesn't matter which set is used to call the method\n",
    "print(\"Shared elements, again (intersection):\", set2.intersection(set1))"
   ]
  },
  {
   "cell_type": "code",
   "execution_count": null,
   "metadata": {},
   "outputs": [],
   "source": [
    "# The difference method makes a new set containing items unique to the set from which the method is called\n",
    "print(\"set1 only (difference):\", set1.difference(set2))\n",
    "# Note that in this case, it DOES matter which set is used to call the method\n",
    "print(\"set2 only (difference):\", set2.difference(set1))"
   ]
  },
  {
   "cell_type": "code",
   "execution_count": null,
   "metadata": {},
   "outputs": [],
   "source": [
    "# The symmetric_difference method returns the union of the two previous difference calls\n",
    "print(\"single set only (symmetric_difference):\", set1.symmetric_difference(set2))\n",
    "# And therefore, it does NOT matter which set is used to call the method\n",
    "print(\"single set only, again (symmetric_difference):\", set2.symmetric_difference(set1))"
   ]
  },
  {
   "cell_type": "code",
   "execution_count": null,
   "metadata": {},
   "outputs": [],
   "source": [
    "# Finally, the union method returns a set that includes all of the elements in both sets being compared\n",
    "print(\"Combination of both sets (union):\", set1.union(set2))\n",
    "# And therefore, again it does NOT matter which set is used to call the method\n",
    "print(\"Combination of both sets, again (union):\", set2.union(set1))"
   ]
  },
  {
   "cell_type": "code",
   "execution_count": null,
   "metadata": {},
   "outputs": [],
   "source": [
    "# There are also two useful set methods that perform comparisons, but do NOT return new sets\n",
    "\n",
    "# For our purposes here, lets make two new sets\n",
    "set3 = set(range(5))    #Generating a set with all integers 0-4\n",
    "set4 = set(range(20))  #Generating a set with all integers 0-19\n",
    "\n",
    "# One method is .issubset, which will return true if\n",
    "# the set from which the method is called is contained completely within the 2nd set\n",
    "print(\"Is 0-4 a subset of 0-19?\", set3.issubset(set4) )\n",
    "# It DOES matter which set is used to call the method\n",
    "print(\"Is 0-19 a subset of 0-4?\", set4.issubset(set3) )\n"
   ]
  },
  {
   "cell_type": "code",
   "execution_count": null,
   "metadata": {},
   "outputs": [],
   "source": [
    "# .issuperset is the opposite of .issubset\n",
    "# And again, it DOES matter which set is used to call the method\n",
    "print(\"Does 0-19 fully contain 0-4?\", set4.issuperset(set3) )\n",
    "print(\"Does 0-19 fully contain 0-10?\", set4.issuperset(set1) )\n",
    "print(\"Does 0-10 fully contain 5-14?\", set1.issuperset(set2) )\n"
   ]
  },
  {
   "cell_type": "markdown",
   "metadata": {},
   "source": [
    "# Assignment 1.2\n",
    "## The next cell contains three complex lists of integers (a, b and c). Use sets (along with other commands you know) to report the following:\n",
    "### 1. The initial length of each list\n",
    "### 2. The number of unique numbers contained in each list\n",
    "### 3. The number of unique values shared between each pair of lists\n",
    "### 4. Whether the items in each list are a subset or superset of the items in each of the other lists\n",
    "### 5. The total number of unique integers contained in the three lists combined"
   ]
  },
  {
   "cell_type": "code",
   "execution_count": null,
   "metadata": {},
   "outputs": [],
   "source": [
    "\n",
    "a = [14, 600, 24, 11, 88, 96, 9, 48, 23, 620, 44, 18, 91, 64, 48, 19, 790, 4, 84, 28, 12, 78, 21, 14, 39, 32, 690, 79, 670, 46, 85, 54, 2, 86, 66, 640, 520, 53, 740, 68, 6, 5, 42, 610, 55, 50, 73, 3, 90, 52, 26, 56, 40, 540, 57, 710, 62, 34, 22, 59, 750, 660, 69, 780, 16, 26, 93, 56, 38, 35, 74, 70, 20, 51, 87, 60, 66, 52, 92, 75, 12, 40, 29, 1, 700, 10, 76, 64, 18, 44, 99, 42, 60, 7, 30, 71, 27, 65, 17, 730, 530, 28, 97, 94, 30, 38, 63, 36, 70, 58, 570, 680, 500, 37, 20, 0, 15, 720, 67, 68, 22, 50, 45, 41, 32, 80, 54, 47, 760, 72, 61, 95, 49, 560, 580, 510, 31, 72, 81, 43, 36, 34, 83, 550, 74, 58, 77, 13, 82, 650, 25, 8, 89, 46, 590, 33, 10, 770, 24, 62, 16, 630, 98]\n",
    "b = [79, 45, 66, 30, 32, 520, 90, 20, 12, 20, 27, 65, 28, 33, 0, 43, 61, 22, 80, 75, 14, 72, 94, 34, 46, 28, 27, 560, 28, 81, 54, 62, 62, 34, 60, 56, 48, 78, 8, 84, 59, 34, 50, 510, 68, 38, 48, 24, 620, 14, 22, 99, 28, 56, 26, 64, 87, 30, 36, 46, 770, 25, 26, 37, 590, 58, 23, 77, 740, 21, 38, 650, 52, 32, 550, 44, 720, 580, 43, 42, 630, 44, 6, 51, 24, 53, 22, 710, 52, 20, 32, 530, 95, 34, 39, 780, 730, 74, 26, 610, 500, 30, 10, 33, 83, 750, 82, 93, 40, 57, 10, 40, 2, 690, 85, 70, 22, 31, 16, 16, 29, 60, 790, 54, 91, 88, 38, 760, 36, 37, 97, 76, 21, 26, 35, 700, 670, 58, 18, 42, 74, 70, 35, 92, 47, 660, 640, 68, 18, 25, 24, 600, 42, 41, 73, 39, 32, 12, 1002, 570, 67, 36, 31, 29, 4, 64, 72, 69, 49, 89, 55, 1001, 41, 63, 24, 98, 44, 20, 66, 86, 540, 71, 96, 23, 1003, 680, 40, 1006, 30, 50]\n",
    "c = [760, 60, 18, 4, 30, 70, 10, 44, 7, 14, 20, 8, 530, 6, 0, 18, 770, 26, 13, 2, 19, 680, 24, 13, 740, 10, 730, 4, 72, 66, 12, 42, 32, 670, 68, 590, 11, 52, 14, 50, 660, 17, 54, 56, 20, 6, 520, 38, 34, 74, 9, 0, 1, 600, 560, 40, 780, 16, 3, 700, 510, 2, 22, 3, 15, 26, 24, 690, 10, 750, 630, 18, 5, 7, 18, 14, 32, 710, 28, 22, 570, 9, 620, 12, 12, 8, 36, 12, 8, 650, 16, 550, 46, 4, 580, 11, 16, 16, 64, 15, 62, 0, 34, 720, 10, 5, 14, 48, 2, 17, 6, 640, 540, 28, 1, 19, 30, 58, 790, 610, 500]\n"
   ]
  }
 ],
 "metadata": {
  "kernelspec": {
   "display_name": "Python 3",
   "language": "python",
   "name": "python3"
  },
  "language_info": {
   "codemirror_mode": {
    "name": "ipython",
    "version": 3
   },
   "file_extension": ".py",
   "mimetype": "text/x-python",
   "name": "python",
   "nbconvert_exporter": "python",
   "pygments_lexer": "ipython3",
   "version": "3.8.5"
  }
 },
 "nbformat": 4,
 "nbformat_minor": 2
}
